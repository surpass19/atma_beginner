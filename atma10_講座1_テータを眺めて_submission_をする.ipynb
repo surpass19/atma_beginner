{
 "cells": [
  {
   "cell_type": "markdown",
   "metadata": {},
   "source": [
    "## Table of Contents\n",
    "\n",
    "* データを知る\n",
    "    * スキーマを理解する\n",
    "    * 現象を理解する\n",
    "    * 実際にデータを眺める\n",
    "* python を使ったデータの理解\n",
    "    * train / test の Report をさっくり作る\n",
    "    * 学習用のデータと予測するデータの差分を知る\n",
    "* モデリングのための特徴量作成\n",
    "    * 連続変数の特徴量\n",
    "    * テキストのシンプルな特徴量\n",
    "    * カテゴリ変数の特徴量\n",
    "        * CountEncoding\n",
    "        * OneHotEncoding\n",
    "        * より深く知る\n",
    "* LightGBM でモデル作る\n",
    "    * CrossValidation とは / なんで CrossValidation するの?\n",
    "    * LightGBM でのモデリング・パラメータ\n",
    "    * 特徴重要度 (FeatureImporatnce) の可視化\n",
    "    * モデルを使って予測・submissionの作成"
   ]
  },
  {
   "cell_type": "markdown",
   "metadata": {},
   "source": [
    "### Install Requirements\n",
    "\n",
    "* pandas\n",
    "* matplotlib\n",
    "* seaborn\n",
    "* scikit-learn\n",
    "* pandas-profiling\n",
    "* matplitlib-venn"
   ]
  },
  {
   "cell_type": "code",
   "execution_count": 1,
   "metadata": {},
   "outputs": [
    {
     "name": "stdout",
     "output_type": "stream",
     "text": [
      "Requirement already satisfied: seaborn==0.11.1 in /home/penguin/.conda/lib/python3.7/site-packages (0.11.1)\n",
      "Requirement already satisfied: pandas==1.2.2 in /home/penguin/.conda/lib/python3.7/site-packages (1.2.2)\n",
      "Requirement already satisfied: python-dateutil>=2.7.3 in /home/penguin/.conda/lib/python3.7/site-packages (from pandas==1.2.2) (2.8.1)\n",
      "Requirement already satisfied: pytz>=2017.3 in /home/penguin/.conda/lib/python3.7/site-packages (from pandas==1.2.2) (2020.1)\n",
      "Requirement already satisfied: numpy>=1.16.5 in /home/penguin/.conda/lib/python3.7/site-packages (from pandas==1.2.2) (1.18.5)\n",
      "Requirement already satisfied: matplotlib>=2.2 in /home/penguin/.conda/lib/python3.7/site-packages (from seaborn==0.11.1) (3.2.2)\n",
      "Requirement already satisfied: scipy>=1.0 in /home/penguin/.conda/lib/python3.7/site-packages (from seaborn==0.11.1) (1.5.0)\n",
      "Requirement already satisfied: kiwisolver>=1.0.1 in /home/penguin/.conda/lib/python3.7/site-packages (from matplotlib>=2.2->seaborn==0.11.1) (1.2.0)\n",
      "Requirement already satisfied: pyparsing!=2.0.4,!=2.1.2,!=2.1.6,>=2.0.1 in /home/penguin/.conda/lib/python3.7/site-packages (from matplotlib>=2.2->seaborn==0.11.1) (2.4.7)\n",
      "Requirement already satisfied: cycler>=0.10 in /home/penguin/.conda/lib/python3.7/site-packages (from matplotlib>=2.2->seaborn==0.11.1) (0.10.0)\n",
      "Requirement already satisfied: six in /home/penguin/.conda/lib/python3.7/site-packages (from cycler>=0.10->matplotlib>=2.2->seaborn==0.11.1) (1.15.0)\n"
     ]
    }
   ],
   "source": [
    "!pip install -U \\\n",
    "    seaborn==0.11.1 \\\n",
    "    pandas==1.2.2"
   ]
  },
  {
   "cell_type": "code",
   "execution_count": 2,
   "metadata": {},
   "outputs": [],
   "source": [
    "import os\n",
    "\n",
    "import pandas as pd\n",
    "import matplotlib.pyplot as plt\n",
    "import seaborn as sns\n",
    "import numpy as np\n",
    "\n",
    "from pandas_profiling import ProfileReport # profile report を作る用\n",
    "from matplotlib_venn import venn2 # venn図を作成する用"
   ]
  },
  {
   "cell_type": "code",
   "execution_count": 3,
   "metadata": {},
   "outputs": [],
   "source": [
    "INPUT_DIR = '/analysis/data/tutorial/inputs/'\n",
    "OUTPUT_DIR = '/analysis/data/tutorial/outputs/'\n",
    "\n",
    "os.makedirs(OUTPUT_DIR, exist_ok=True)\n",
    "\n",
    "train_df = pd.read_csv(os.path.join(INPUT_DIR, 'train.csv'))\n",
    "test_df = pd.read_csv(os.path.join(INPUT_DIR, 'test.csv'))"
   ]
  },
  {
   "cell_type": "code",
   "execution_count": 4,
   "metadata": {},
   "outputs": [
    {
     "data": {
      "text/html": [
       "<div>\n",
       "<style scoped>\n",
       "    .dataframe tbody tr th:only-of-type {\n",
       "        vertical-align: middle;\n",
       "    }\n",
       "\n",
       "    .dataframe tbody tr th {\n",
       "        vertical-align: top;\n",
       "    }\n",
       "\n",
       "    .dataframe thead th {\n",
       "        text-align: right;\n",
       "    }\n",
       "</style>\n",
       "<table border=\"1\" class=\"dataframe\">\n",
       "  <thead>\n",
       "    <tr style=\"text-align: right;\">\n",
       "      <th></th>\n",
       "      <th>0</th>\n",
       "      <th>1</th>\n",
       "      <th>2</th>\n",
       "      <th>3</th>\n",
       "      <th>4</th>\n",
       "    </tr>\n",
       "  </thead>\n",
       "  <tbody>\n",
       "    <tr>\n",
       "      <th>object_id</th>\n",
       "      <td>0011d6be41612ec9eae3</td>\n",
       "      <td>0012765f7a97ccc3e9e9</td>\n",
       "      <td>0017be8caa87206532cb</td>\n",
       "      <td>00181d86ff1a7b95864e</td>\n",
       "      <td>001c52ae28ec106d9cd5</td>\n",
       "    </tr>\n",
       "    <tr>\n",
       "      <th>art_series_id</th>\n",
       "      <td>93c092ba70beab248f31</td>\n",
       "      <td>95c14fb11c54281ad7e0</td>\n",
       "      <td>4c406890d208fe01f8fb</td>\n",
       "      <td>fa0891535500a4973db2</td>\n",
       "      <td>8065ed5063c5887e677d</td>\n",
       "    </tr>\n",
       "    <tr>\n",
       "      <th>title</th>\n",
       "      <td>The Avenue of Birches</td>\n",
       "      <td>Struik in bloei</td>\n",
       "      <td>Portret van een vrouw</td>\n",
       "      <td>A St Bernard Dog</td>\n",
       "      <td>Woelige zee met zeilschepen</td>\n",
       "    </tr>\n",
       "    <tr>\n",
       "      <th>description</th>\n",
       "      <td>NaN</td>\n",
       "      <td>NaN</td>\n",
       "      <td>Portret van eenvrouw, zittend naast een tafel.</td>\n",
       "      <td>Een sint-bernardshond, staand in een landschap...</td>\n",
       "      <td>Woelige zee met zeilschepen.</td>\n",
       "    </tr>\n",
       "    <tr>\n",
       "      <th>long_title</th>\n",
       "      <td>The Avenue of Birches, Jan Hackaert, 1660 - 1685</td>\n",
       "      <td>Struik in bloei, Richard Tepe (attributed to),...</td>\n",
       "      <td>Portret van een vrouw, Tresling &amp; Comp., 1860 ...</td>\n",
       "      <td>A St Bernard Dog, Bernard te Gempt, c. 1850 - ...</td>\n",
       "      <td>Woelige zee met zeilschepen, anonymous, 1825 -...</td>\n",
       "    </tr>\n",
       "    <tr>\n",
       "      <th>principal_maker</th>\n",
       "      <td>Jan Hackaert</td>\n",
       "      <td>Richard Tepe</td>\n",
       "      <td>Tresling &amp; Comp.</td>\n",
       "      <td>Bernard te Gempt</td>\n",
       "      <td>anonymous</td>\n",
       "    </tr>\n",
       "    <tr>\n",
       "      <th>principal_or_first_maker</th>\n",
       "      <td>Jan Hackaert</td>\n",
       "      <td>Richard Tepe</td>\n",
       "      <td>Tresling &amp; Comp.</td>\n",
       "      <td>Bernard te Gempt</td>\n",
       "      <td>anonymous</td>\n",
       "    </tr>\n",
       "    <tr>\n",
       "      <th>sub_title</th>\n",
       "      <td>h 66.5cm × w 53.7cm × t 2.5cm × d 4.7cm</td>\n",
       "      <td>h 165mm × w 223mm</td>\n",
       "      <td>h 87mm × w 56mm</td>\n",
       "      <td>h 179cm × w 248cm × t 4cm</td>\n",
       "      <td>h 13cm × w 17.5cm × d 0.7cm</td>\n",
       "    </tr>\n",
       "    <tr>\n",
       "      <th>copyright_holder</th>\n",
       "      <td>NaN</td>\n",
       "      <td>erven Richard Tepe</td>\n",
       "      <td>NaN</td>\n",
       "      <td>NaN</td>\n",
       "      <td>NaN</td>\n",
       "    </tr>\n",
       "    <tr>\n",
       "      <th>more_title</th>\n",
       "      <td>The Avenue of Birches</td>\n",
       "      <td>Struik in bloei</td>\n",
       "      <td>Portret van een vrouw</td>\n",
       "      <td>A St Bernard Dog</td>\n",
       "      <td>Woelige zee met zeilschepen</td>\n",
       "    </tr>\n",
       "    <tr>\n",
       "      <th>acquisition_method</th>\n",
       "      <td>purchase</td>\n",
       "      <td>purchase</td>\n",
       "      <td>gift</td>\n",
       "      <td>bequest</td>\n",
       "      <td>unknown</td>\n",
       "    </tr>\n",
       "    <tr>\n",
       "      <th>acquisition_date</th>\n",
       "      <td>1808-01-01T00:00:00</td>\n",
       "      <td>2000-01-01T00:00:00</td>\n",
       "      <td>2007-01-01T00:00:00</td>\n",
       "      <td>1881-01-01T00:00:00</td>\n",
       "      <td>1971-01-01T00:00:00</td>\n",
       "    </tr>\n",
       "    <tr>\n",
       "      <th>acquisition_credit_line</th>\n",
       "      <td>NaN</td>\n",
       "      <td>NaN</td>\n",
       "      <td>Gift of M.M. Boom, Leiden</td>\n",
       "      <td>J. Hilman Bequest, Amsterdam</td>\n",
       "      <td>NaN</td>\n",
       "    </tr>\n",
       "    <tr>\n",
       "      <th>dating_presenting_date</th>\n",
       "      <td>1660 - 1685</td>\n",
       "      <td>c. 1900 - c. 1930</td>\n",
       "      <td>1860 - 1880</td>\n",
       "      <td>c. 1850 - c. 1879</td>\n",
       "      <td>1825 - 1874</td>\n",
       "    </tr>\n",
       "    <tr>\n",
       "      <th>dating_sorting_date</th>\n",
       "      <td>1660.0</td>\n",
       "      <td>1900.0</td>\n",
       "      <td>1860.0</td>\n",
       "      <td>1850.0</td>\n",
       "      <td>1825.0</td>\n",
       "    </tr>\n",
       "    <tr>\n",
       "      <th>dating_period</th>\n",
       "      <td>17</td>\n",
       "      <td>19</td>\n",
       "      <td>19</td>\n",
       "      <td>19</td>\n",
       "      <td>19</td>\n",
       "    </tr>\n",
       "    <tr>\n",
       "      <th>dating_year_early</th>\n",
       "      <td>1660.0</td>\n",
       "      <td>1900.0</td>\n",
       "      <td>1860.0</td>\n",
       "      <td>1850.0</td>\n",
       "      <td>1825.0</td>\n",
       "    </tr>\n",
       "    <tr>\n",
       "      <th>dating_year_late</th>\n",
       "      <td>1685.0</td>\n",
       "      <td>1930.0</td>\n",
       "      <td>1880.0</td>\n",
       "      <td>1879.0</td>\n",
       "      <td>1874.0</td>\n",
       "    </tr>\n",
       "    <tr>\n",
       "      <th>likes</th>\n",
       "      <td>48</td>\n",
       "      <td>2</td>\n",
       "      <td>5</td>\n",
       "      <td>100</td>\n",
       "      <td>7</td>\n",
       "    </tr>\n",
       "  </tbody>\n",
       "</table>\n",
       "</div>"
      ],
      "text/plain": [
       "                                                                         0  \\\n",
       "object_id                                             0011d6be41612ec9eae3   \n",
       "art_series_id                                         93c092ba70beab248f31   \n",
       "title                                                The Avenue of Birches   \n",
       "description                                                            NaN   \n",
       "long_title                The Avenue of Birches, Jan Hackaert, 1660 - 1685   \n",
       "principal_maker                                               Jan Hackaert   \n",
       "principal_or_first_maker                                      Jan Hackaert   \n",
       "sub_title                          h 66.5cm × w 53.7cm × t 2.5cm × d 4.7cm   \n",
       "copyright_holder                                                       NaN   \n",
       "more_title                                           The Avenue of Birches   \n",
       "acquisition_method                                                purchase   \n",
       "acquisition_date                                       1808-01-01T00:00:00   \n",
       "acquisition_credit_line                                                NaN   \n",
       "dating_presenting_date                                         1660 - 1685   \n",
       "dating_sorting_date                                                 1660.0   \n",
       "dating_period                                                           17   \n",
       "dating_year_early                                                   1660.0   \n",
       "dating_year_late                                                    1685.0   \n",
       "likes                                                                   48   \n",
       "\n",
       "                                                                          1  \\\n",
       "object_id                                              0012765f7a97ccc3e9e9   \n",
       "art_series_id                                          95c14fb11c54281ad7e0   \n",
       "title                                                       Struik in bloei   \n",
       "description                                                             NaN   \n",
       "long_title                Struik in bloei, Richard Tepe (attributed to),...   \n",
       "principal_maker                                                Richard Tepe   \n",
       "principal_or_first_maker                                       Richard Tepe   \n",
       "sub_title                                                 h 165mm × w 223mm   \n",
       "copyright_holder                                         erven Richard Tepe   \n",
       "more_title                                                  Struik in bloei   \n",
       "acquisition_method                                                 purchase   \n",
       "acquisition_date                                        2000-01-01T00:00:00   \n",
       "acquisition_credit_line                                                 NaN   \n",
       "dating_presenting_date                                    c. 1900 - c. 1930   \n",
       "dating_sorting_date                                                  1900.0   \n",
       "dating_period                                                            19   \n",
       "dating_year_early                                                    1900.0   \n",
       "dating_year_late                                                     1930.0   \n",
       "likes                                                                     2   \n",
       "\n",
       "                                                                          2  \\\n",
       "object_id                                              0017be8caa87206532cb   \n",
       "art_series_id                                          4c406890d208fe01f8fb   \n",
       "title                                                 Portret van een vrouw   \n",
       "description                  Portret van eenvrouw, zittend naast een tafel.   \n",
       "long_title                Portret van een vrouw, Tresling & Comp., 1860 ...   \n",
       "principal_maker                                            Tresling & Comp.   \n",
       "principal_or_first_maker                                   Tresling & Comp.   \n",
       "sub_title                                                   h 87mm × w 56mm   \n",
       "copyright_holder                                                        NaN   \n",
       "more_title                                            Portret van een vrouw   \n",
       "acquisition_method                                                     gift   \n",
       "acquisition_date                                        2007-01-01T00:00:00   \n",
       "acquisition_credit_line                           Gift of M.M. Boom, Leiden   \n",
       "dating_presenting_date                                          1860 - 1880   \n",
       "dating_sorting_date                                                  1860.0   \n",
       "dating_period                                                            19   \n",
       "dating_year_early                                                    1860.0   \n",
       "dating_year_late                                                     1880.0   \n",
       "likes                                                                     5   \n",
       "\n",
       "                                                                          3  \\\n",
       "object_id                                              00181d86ff1a7b95864e   \n",
       "art_series_id                                          fa0891535500a4973db2   \n",
       "title                                                      A St Bernard Dog   \n",
       "description               Een sint-bernardshond, staand in een landschap...   \n",
       "long_title                A St Bernard Dog, Bernard te Gempt, c. 1850 - ...   \n",
       "principal_maker                                            Bernard te Gempt   \n",
       "principal_or_first_maker                                   Bernard te Gempt   \n",
       "sub_title                                         h 179cm × w 248cm × t 4cm   \n",
       "copyright_holder                                                        NaN   \n",
       "more_title                                                 A St Bernard Dog   \n",
       "acquisition_method                                                  bequest   \n",
       "acquisition_date                                        1881-01-01T00:00:00   \n",
       "acquisition_credit_line                        J. Hilman Bequest, Amsterdam   \n",
       "dating_presenting_date                                    c. 1850 - c. 1879   \n",
       "dating_sorting_date                                                  1850.0   \n",
       "dating_period                                                            19   \n",
       "dating_year_early                                                    1850.0   \n",
       "dating_year_late                                                     1879.0   \n",
       "likes                                                                   100   \n",
       "\n",
       "                                                                          4  \n",
       "object_id                                              001c52ae28ec106d9cd5  \n",
       "art_series_id                                          8065ed5063c5887e677d  \n",
       "title                                           Woelige zee met zeilschepen  \n",
       "description                                    Woelige zee met zeilschepen.  \n",
       "long_title                Woelige zee met zeilschepen, anonymous, 1825 -...  \n",
       "principal_maker                                                   anonymous  \n",
       "principal_or_first_maker                                          anonymous  \n",
       "sub_title                                       h 13cm × w 17.5cm × d 0.7cm  \n",
       "copyright_holder                                                        NaN  \n",
       "more_title                                      Woelige zee met zeilschepen  \n",
       "acquisition_method                                                  unknown  \n",
       "acquisition_date                                        1971-01-01T00:00:00  \n",
       "acquisition_credit_line                                                 NaN  \n",
       "dating_presenting_date                                          1825 - 1874  \n",
       "dating_sorting_date                                                  1825.0  \n",
       "dating_period                                                            19  \n",
       "dating_year_early                                                    1825.0  \n",
       "dating_year_late                                                     1874.0  \n",
       "likes                                                                     7  "
      ]
     },
     "execution_count": 4,
     "metadata": {},
     "output_type": "execute_result"
    }
   ],
   "source": [
    "train_df.head().T"
   ]
  },
  {
   "cell_type": "markdown",
   "metadata": {},
   "source": [
    "## データを知る\n",
    "\n",
    "まずはじめは、コードとかをかかずにわれわれは今どういうデータを取り扱っていて何を予測することが求められているのかについての理解を深めておきましょう。\n",
    "\n",
    "### スキーマ(構造)を確認する\n",
    "\n",
    "一番初めにやることは、コードを書くことではなくデータのスキーマと実際にどういうデータが入っているのかを確認することです。\n",
    "\n",
    "自分が使える情報は何か・それはどのような構造を持っているか・実際にどういう値が入っているかをしっかりと把握してください。今回のデータは train / test 以外にも使えるテーブルがいくつか存在しています。データタブに各テーブルが持っている Field の情報が書かれていますので、ちゃんと読んでおきましょう。\n",
    "\n",
    "### 実際に眺める\n",
    "\n",
    "全体の構造がざっと理解できたら、次は**実際に**データをみましょう。この実際に見るというのは pandas で head を print とかではなくて、エクセルで開いて、フィルタなどを活用しながらデータを確認するようなちょっと泥臭い作業を指します。\n",
    "\n",
    "この作業を経ることで、データに対する肌感を感じられます。例えば...\n",
    "\n",
    "* Null がめっちゃ同時に起こっている → 特定の場合には2つの情報が同時に欠落するようなオペレーションになっているかも? というようなインサイト\n",
    "* テキストのカラムでの表記ゆれ。人間が見たほうがすぐわかります。\n",
    "\n",
    "今回使えるデータはどれも容量が小さいですからローカルでエクセルで開いてみて、ぱっぱっぱーっと見ていくだけでもだいぶ違うでしょう。このとき思ったこと・感じたことは, テーブルごとなどでどこかにメモしておくとあとあとで処理をするときに役に立って感動することがあります。\n",
    "\n",
    "### 現象を理解する\n",
    "\n",
    "次に「このデータはどういうふうに作られているか」について考えてみてください。特殊なデータを除いて、データとは何らかの行動のあしあとですから物理的・時間的な制約を多く受けます。あしあとに関して想像をふくらませることで Machine Learning のアルゴリズムに対してよりよい情報を作って渡すことができます。\n",
    "\n",
    "例えば今回のデータの likes は人間の気持ちの現れです。\n",
    "likes でソートして、多い方1000件と少ない方1000件を見比べてみて、自分だったらこの作品は良いねするかな? するならなぜか? など考えてみるなど、実際に良いねを押すひとの気持ちになって考えることは大事でしょう。\n",
    "\n",
    "> #### 参考文献\n",
    "* [教師データの作成方法について（誰がどこでいいねしているの？） | @nndropout1-san ](https://www.guruguru.science/competitions/16/discussions/7a4052f0-0ee9-4cf1-8d44-82997318b87e/)\n",
    "\n",
    "### 予測対象を確認する\n",
    "\n",
    "今回の予測対象は良いねの数です。\n",
    "\n",
    "> like: 作品につけられたいいねの数。0以上の整数。この値が予測対象です。\n",
    "\n",
    "良いね数というのはゼロ以上であることが確定していますから、ゼロ以下を予測することは意味がないことがわかります。参考文献にあるようにもっと likes について考えるのもとても良いと思います!\n",
    "\n",
    "### 評価指標を確認する\n",
    "\n",
    "コンペティションで利用される評価指標に関しての理解を深めておきましょう。今回の指標は RMSLE です。RMSLE を直接最適化する方法もありますが, 一度 log1p 変換をすると RMSE として取り扱えます (log1p変換後にRMSEとRMSLEは数学的に等価です)。一般的なアルゴリズムでは RMSE を扱うほうが得意ですから log1p 変換後の likes の値を予測して後で戻す方法が良さそうです。"
   ]
  },
  {
   "cell_type": "markdown",
   "metadata": {},
   "source": [
    "## pythonを使ったデータの理解\n",
    "\n",
    "データを知るの作業をある程度おこなえたら、次に python などプログラムを使って全体の傾向について見ていきます。\n",
    "\n",
    "### train / test の Report をさっくり作る\n",
    "\n",
    "傾向把握をいちいち記述しても良いですが煩雑です。pandas profiling というライブラリがあり、こちらを使うとデータフレームの統計量を一気に確認することが可能です。簡単な使い方は `ProfileReport` class に可視化したいデータフレームを渡して repot を作り `to_file` を呼び出して html ファイルとして保存する方法です。\n",
    "\n",
    "保存した html をブラウザなどで開くと以下のような統計量をカラムごとに確認できてとても便利です。\n",
    "\n",
    "* ユニークな値の数\n",
    "* 頻度の高い値\n",
    "* 意味の無いカラムや Null が多いカラムかどうか ...etc"
   ]
  },
  {
   "cell_type": "code",
   "execution_count": 5,
   "metadata": {},
   "outputs": [
    {
     "data": {
      "application/vnd.jupyter.widget-view+json": {
       "model_id": "2bc65a319c644ec4b3a5981f0a223202",
       "version_major": 2,
       "version_minor": 0
      },
      "text/plain": [
       "HBox(children=(FloatProgress(value=0.0, description='Summarize dataset', max=33.0, style=ProgressStyle(descrip…"
      ]
     },
     "metadata": {},
     "output_type": "display_data"
    },
    {
     "name": "stdout",
     "output_type": "stream",
     "text": [
      "\n"
     ]
    },
    {
     "data": {
      "application/vnd.jupyter.widget-view+json": {
       "model_id": "b8ad54fed3a64424b7af6647ebf9892e",
       "version_major": 2,
       "version_minor": 0
      },
      "text/plain": [
       "HBox(children=(FloatProgress(value=0.0, description='Generate report structure', max=1.0, style=ProgressStyle(…"
      ]
     },
     "metadata": {},
     "output_type": "display_data"
    },
    {
     "name": "stdout",
     "output_type": "stream",
     "text": [
      "\n"
     ]
    },
    {
     "data": {
      "application/vnd.jupyter.widget-view+json": {
       "model_id": "a84a8314850d4f899564614040a76ae9",
       "version_major": 2,
       "version_minor": 0
      },
      "text/plain": [
       "HBox(children=(FloatProgress(value=0.0, description='Render HTML', max=1.0, style=ProgressStyle(description_wi…"
      ]
     },
     "metadata": {},
     "output_type": "display_data"
    },
    {
     "name": "stdout",
     "output_type": "stream",
     "text": [
      "\n"
     ]
    },
    {
     "data": {
      "application/vnd.jupyter.widget-view+json": {
       "model_id": "d621626f6a284bc4a6cf1dea3f165e15",
       "version_major": 2,
       "version_minor": 0
      },
      "text/plain": [
       "HBox(children=(FloatProgress(value=0.0, description='Export report to file', max=1.0, style=ProgressStyle(desc…"
      ]
     },
     "metadata": {},
     "output_type": "display_data"
    },
    {
     "name": "stdout",
     "output_type": "stream",
     "text": [
      "\n"
     ]
    }
   ],
   "source": [
    "report = ProfileReport(train_df)\n",
    "report.to_file(os.path.join(OUTPUT_DIR, 'train_report.html'))"
   ]
  },
  {
   "cell_type": "markdown",
   "metadata": {},
   "source": [
    "### 学習用のデータと予測するデータの差分を知る\n",
    "\n",
    "> #### 参考文献\n",
    "* [trainとtestでカテゴリー同士の被り具合を確認 | @Pirototo san](https://www.guruguru.science/competitions/16/discussions/dc8df46d-8519-468e-addb-b706431e47c7/)\n",
    "* [Sweetviz train test | @sinchir0-san ](https://www.guruguru.science/competitions/16/discussions/451504f5-2448-4669-9acf-ffbaaca75ea2/)\n",
    "\n",
    "学習データと予測データは(当たり前ですが)別のデータです。この別の度合いが強すぎる場合、特にカテゴリのカラムでテストデータ・学習データでかぶっていないものが多い場合には注意をする必要があります。(より一般的に言うとテストデータと学習データの分布が異なるもの一般が要注意な特徴量になります。)\n",
    "\n",
    "分布が違いすぎるというのは即ち「学習していない状況で予測をする」ことです。\n",
    "分布が違うと、学習データで見積もった予測性能とテストデータでの予測性能が乖離してしまう場合がありますので、そういったカラムを特徴量として使う場合には注意が必要です。\n",
    "\n",
    "> 例: 浮世絵カテゴリについてとても予測できるモデルを作って、テストではすべて印象派の絵画が来たらそのモデルは予測性能が高いでしょうか?"
   ]
  },
  {
   "cell_type": "markdown",
   "metadata": {},
   "source": [
    "## モデリングのための特徴量作成"
   ]
  },
  {
   "cell_type": "markdown",
   "metadata": {},
   "source": [
    "## Pandas をつかう\n",
    "\n",
    "以下は pandas をつかってデータ加工をしていきます! python になれることと pandas になれることとは若干の乖離がある部分がありますので、最初は大変だと思いますが notebook などで1行ずつ処理を追いかけて何が起こっているか判断するようにしていると上達は早いかなと思います。"
   ]
  },
  {
   "cell_type": "code",
   "execution_count": 6,
   "metadata": {},
   "outputs": [],
   "source": [
    "series = train_df['dating_period']"
   ]
  },
  {
   "cell_type": "markdown",
   "metadata": {},
   "source": [
    "### 値の変換"
   ]
  },
  {
   "cell_type": "code",
   "execution_count": 7,
   "metadata": {},
   "outputs": [
    {
     "data": {
      "text/plain": [
       "0    1\n",
       "1    1\n",
       "2    4\n",
       "dtype: int64"
      ]
     },
     "execution_count": 7,
     "metadata": {},
     "output_type": "execute_result"
    }
   ],
   "source": [
    "pd.Series([1, 1, 2]) ** 2"
   ]
  },
  {
   "cell_type": "code",
   "execution_count": 8,
   "metadata": {},
   "outputs": [
    {
     "data": {
      "text/plain": [
       "0    2\n",
       "1    2\n",
       "2    4\n",
       "dtype: int64"
      ]
     },
     "execution_count": 8,
     "metadata": {},
     "output_type": "execute_result"
    }
   ],
   "source": [
    "pd.Series([1, 1, 2]) + pd.Series([1, 1, 2])"
   ]
  },
  {
   "cell_type": "code",
   "execution_count": 9,
   "metadata": {},
   "outputs": [
    {
     "data": {
      "text/plain": [
       "0    1000\n",
       "1     100\n",
       "2    1000\n",
       "dtype: int64"
      ]
     },
     "execution_count": 9,
     "metadata": {},
     "output_type": "execute_result"
    }
   ],
   "source": [
    "def converter(x):\n",
    "    if x < 10:\n",
    "        return 1000\n",
    "    return x\n",
    "\n",
    "pd.Series([1, 100, 2]).map(converter)"
   ]
  },
  {
   "cell_type": "code",
   "execution_count": 10,
   "metadata": {},
   "outputs": [
    {
     "data": {
      "text/plain": [
       "0    100.0\n",
       "1    100.0\n",
       "2      NaN\n",
       "dtype: float64"
      ]
     },
     "execution_count": 10,
     "metadata": {},
     "output_type": "execute_result"
    }
   ],
   "source": [
    "pd.Series([1, 1, 2]).map({1: 100})"
   ]
  },
  {
   "cell_type": "markdown",
   "metadata": {},
   "source": [
    "### 条件による絞り込み"
   ]
  },
  {
   "cell_type": "code",
   "execution_count": 11,
   "metadata": {},
   "outputs": [],
   "source": [
    "# ある特定の条件で絞ったあたいだけ取り出したいときは, 一度変数に代入する方法がおすすめです。\n",
    "idx = series == 19"
   ]
  },
  {
   "cell_type": "code",
   "execution_count": 12,
   "metadata": {},
   "outputs": [
    {
     "data": {
      "text/plain": [
       "1        19\n",
       "2        19\n",
       "3        19\n",
       "4        19\n",
       "5        19\n",
       "         ..\n",
       "12011    19\n",
       "12012    19\n",
       "12013    19\n",
       "12018    19\n",
       "12021    19\n",
       "Name: dating_period, Length: 5042, dtype: int64"
      ]
     },
     "execution_count": 12,
     "metadata": {},
     "output_type": "execute_result"
    }
   ],
   "source": [
    "series[idx]"
   ]
  },
  {
   "cell_type": "markdown",
   "metadata": {},
   "source": [
    "しぼり込み方法はいくつかあります. 代表的なものを下記に書いておきました。"
   ]
  },
  {
   "cell_type": "code",
   "execution_count": 13,
   "metadata": {},
   "outputs": [
    {
     "data": {
      "text/plain": [
       "0        False\n",
       "1        False\n",
       "2        False\n",
       "3        False\n",
       "4        False\n",
       "         ...  \n",
       "12021    False\n",
       "12022    False\n",
       "12023    False\n",
       "12024    False\n",
       "12025    False\n",
       "Length: 12026, dtype: bool"
      ]
     },
     "execution_count": 13,
     "metadata": {},
     "output_type": "execute_result"
    }
   ],
   "source": [
    "series > 100 # 大小関係\n",
    "series.isin([19, 20]) # 特定の集合にはいっているかどうか\n",
    "series.isnull() # null かどうか\n",
    "series.astype(str).str.contains('foo') # 文字列として評価した時に `contains` しているか\n",
    "\n",
    "series == train_df['object_id'] # 他の column と値が一致しているか"
   ]
  },
  {
   "cell_type": "markdown",
   "metadata": {},
   "source": [
    "複数条件の and / or をする場合には論理演算 `&` / `|` を使いましょう。このとき各条件を式として書く場合には `(` をいれるのを忘れないようにしてください。(論理演算のほうが `<` などの算術よりも先に評価されるためです)"
   ]
  },
  {
   "cell_type": "code",
   "execution_count": 14,
   "metadata": {},
   "outputs": [
    {
     "data": {
      "text/plain": [
       "0        False\n",
       "1         True\n",
       "2         True\n",
       "3         True\n",
       "4         True\n",
       "         ...  \n",
       "12021     True\n",
       "12022    False\n",
       "12023    False\n",
       "12024    False\n",
       "12025    False\n",
       "Name: dating_period, Length: 12026, dtype: bool"
      ]
     },
     "execution_count": 14,
     "metadata": {},
     "output_type": "execute_result"
    }
   ],
   "source": [
    "# 18 以上かつ21以下\n",
    "(series > 18) & (series <= 21)"
   ]
  },
  {
   "cell_type": "markdown",
   "metadata": {},
   "source": [
    "特定条件のときだけ別の値で埋めたい時には `np.where` あるいは `pandas.Series.loc` で上書きする方法があります。"
   ]
  },
  {
   "cell_type": "code",
   "execution_count": 15,
   "metadata": {},
   "outputs": [
    {
     "data": {
      "text/plain": [
       "array([None, 19, 19, ..., None, None, None], dtype=object)"
      ]
     },
     "execution_count": 15,
     "metadata": {},
     "output_type": "execute_result"
    }
   ],
   "source": [
    "idx = series <= 18\n",
    "\n",
    "# 18 以下は全部 None にする\n",
    "np.where(idx, None, series)"
   ]
  },
  {
   "cell_type": "markdown",
   "metadata": {},
   "source": [
    "### 集約関数\n",
    "\n",
    "* aggregation の種類を一旦全部見ておく\n",
    "    * groupby のあとに書く集約の方法のことを aggregation とよびます。\n",
    "    * pandas に備わっている aggregation はかなり多くて便利なので有名ドコロだけでも全部さらっておくと自分で実装しなくて済むことが多いです。\n",
    "    \n",
    "  \n",
    "* 基本的な算術:\n",
    "    * sum\n",
    "    * mean\n",
    "    * median\n",
    "    * std\n",
    "    * var\n",
    "* おぼえとくと役に立つ系\n",
    "    * そのレコードまでの合計値: cumsum\n",
    "    * ユニークな要素の数: nunique\n",
    "    * 集合のおおきさ: size\n",
    "    * その集合で最初とか最後の要素: first / last"
   ]
  },
  {
   "cell_type": "code",
   "execution_count": 16,
   "metadata": {},
   "outputs": [
    {
     "data": {
      "text/plain": [
       "<pandas.core.groupby.generic.DataFrameGroupBy object at 0x7fcd70479bd0>"
      ]
     },
     "execution_count": 16,
     "metadata": {},
     "output_type": "execute_result"
    }
   ],
   "source": [
    "group = train_df.groupby('principal_maker')\n",
    "\n",
    "# 複数の絞り込みをする場合には array で指定します\n",
    "train_df.groupby(['principal_maker', 'dating_sorting_date'])"
   ]
  },
  {
   "cell_type": "code",
   "execution_count": 17,
   "metadata": {},
   "outputs": [
    {
     "data": {
      "text/html": [
       "<div>\n",
       "<style scoped>\n",
       "    .dataframe tbody tr th:only-of-type {\n",
       "        vertical-align: middle;\n",
       "    }\n",
       "\n",
       "    .dataframe tbody tr th {\n",
       "        vertical-align: top;\n",
       "    }\n",
       "\n",
       "    .dataframe thead th {\n",
       "        text-align: right;\n",
       "    }\n",
       "</style>\n",
       "<table border=\"1\" class=\"dataframe\">\n",
       "  <thead>\n",
       "    <tr style=\"text-align: right;\">\n",
       "      <th></th>\n",
       "      <th>min</th>\n",
       "      <th>max</th>\n",
       "      <th>mean</th>\n",
       "    </tr>\n",
       "    <tr>\n",
       "      <th>principal_maker</th>\n",
       "      <th></th>\n",
       "      <th></th>\n",
       "      <th></th>\n",
       "    </tr>\n",
       "  </thead>\n",
       "  <tbody>\n",
       "    <tr>\n",
       "      <th>A. Böeseken</th>\n",
       "      <td>1858.0</td>\n",
       "      <td>1873.0</td>\n",
       "      <td>1865.800000</td>\n",
       "    </tr>\n",
       "    <tr>\n",
       "      <th>A. Cucumus &amp; Cie.</th>\n",
       "      <td>1870.0</td>\n",
       "      <td>1870.0</td>\n",
       "      <td>1870.000000</td>\n",
       "    </tr>\n",
       "    <tr>\n",
       "      <th>A. Davanne &amp; M. Aleo</th>\n",
       "      <td>1850.0</td>\n",
       "      <td>1850.0</td>\n",
       "      <td>1850.000000</td>\n",
       "    </tr>\n",
       "    <tr>\n",
       "      <th>A. Doyen</th>\n",
       "      <td>1840.0</td>\n",
       "      <td>1840.0</td>\n",
       "      <td>1840.000000</td>\n",
       "    </tr>\n",
       "    <tr>\n",
       "      <th>A. Fortier</th>\n",
       "      <td>1850.0</td>\n",
       "      <td>1850.0</td>\n",
       "      <td>1850.000000</td>\n",
       "    </tr>\n",
       "    <tr>\n",
       "      <th>...</th>\n",
       "      <td>...</td>\n",
       "      <td>...</td>\n",
       "      <td>...</td>\n",
       "    </tr>\n",
       "    <tr>\n",
       "      <th>weduwe Jacobus van Egmont</th>\n",
       "      <td>1724.0</td>\n",
       "      <td>1724.0</td>\n",
       "      <td>1724.000000</td>\n",
       "    </tr>\n",
       "    <tr>\n",
       "      <th>Édouard Denis Baldus</th>\n",
       "      <td>1855.0</td>\n",
       "      <td>1861.0</td>\n",
       "      <td>1857.750000</td>\n",
       "    </tr>\n",
       "    <tr>\n",
       "      <th>Émile Bernard</th>\n",
       "      <td>1897.0</td>\n",
       "      <td>1897.0</td>\n",
       "      <td>1897.000000</td>\n",
       "    </tr>\n",
       "    <tr>\n",
       "      <th>Émile Fürst</th>\n",
       "      <td>1864.0</td>\n",
       "      <td>1864.0</td>\n",
       "      <td>1864.000000</td>\n",
       "    </tr>\n",
       "    <tr>\n",
       "      <th>Étienne Neurdein</th>\n",
       "      <td>1860.0</td>\n",
       "      <td>1880.0</td>\n",
       "      <td>1877.777778</td>\n",
       "    </tr>\n",
       "  </tbody>\n",
       "</table>\n",
       "<p>2221 rows × 3 columns</p>\n",
       "</div>"
      ],
      "text/plain": [
       "                              min     max         mean\n",
       "principal_maker                                       \n",
       "A. Böeseken                1858.0  1873.0  1865.800000\n",
       "A. Cucumus & Cie.          1870.0  1870.0  1870.000000\n",
       "A. Davanne & M. Aleo       1850.0  1850.0  1850.000000\n",
       "A. Doyen                   1840.0  1840.0  1840.000000\n",
       "A. Fortier                 1850.0  1850.0  1850.000000\n",
       "...                           ...     ...          ...\n",
       "weduwe Jacobus van Egmont  1724.0  1724.0  1724.000000\n",
       "Édouard Denis Baldus       1855.0  1861.0  1857.750000\n",
       "Émile Bernard              1897.0  1897.0  1897.000000\n",
       "Émile Fürst                1864.0  1864.0  1864.000000\n",
       "Étienne Neurdein           1860.0  1880.0  1877.777778\n",
       "\n",
       "[2221 rows x 3 columns]"
      ]
     },
     "execution_count": 17,
     "metadata": {},
     "output_type": "execute_result"
    }
   ],
   "source": [
    "group.size() # 著者が何回出てくるか. (value_counts と同じです)\n",
    "group['sub_title'].nunique() # 著者ごとに何種類の sub_title を持っているか\n",
    "group['dating_sorting_date'].agg(['min', 'max', 'mean']) # 著者ごとに描いた年度の最小・最大・平均 (agg に配列を渡すと同時に複数やってくれます)"
   ]
  },
  {
   "cell_type": "markdown",
   "metadata": {},
   "source": [
    "`pandas.concat` を `axis=1` (横方向) に行なうことで、複数の集約をまとめることができます。"
   ]
  },
  {
   "cell_type": "code",
   "execution_count": 18,
   "metadata": {},
   "outputs": [
    {
     "data": {
      "text/html": [
       "<div>\n",
       "<style scoped>\n",
       "    .dataframe tbody tr th:only-of-type {\n",
       "        vertical-align: middle;\n",
       "    }\n",
       "\n",
       "    .dataframe tbody tr th {\n",
       "        vertical-align: top;\n",
       "    }\n",
       "\n",
       "    .dataframe thead th {\n",
       "        text-align: right;\n",
       "    }\n",
       "</style>\n",
       "<table border=\"1\" class=\"dataframe\">\n",
       "  <thead>\n",
       "    <tr style=\"text-align: right;\">\n",
       "      <th></th>\n",
       "      <th>size</th>\n",
       "      <th>sub_title</th>\n",
       "      <th>min</th>\n",
       "      <th>max</th>\n",
       "      <th>mean</th>\n",
       "    </tr>\n",
       "    <tr>\n",
       "      <th>principal_maker</th>\n",
       "      <th></th>\n",
       "      <th></th>\n",
       "      <th></th>\n",
       "      <th></th>\n",
       "      <th></th>\n",
       "    </tr>\n",
       "  </thead>\n",
       "  <tbody>\n",
       "    <tr>\n",
       "      <th>A. Böeseken</th>\n",
       "      <td>5</td>\n",
       "      <td>5</td>\n",
       "      <td>1858.0</td>\n",
       "      <td>1873.0</td>\n",
       "      <td>1865.800000</td>\n",
       "    </tr>\n",
       "    <tr>\n",
       "      <th>A. Cucumus &amp; Cie.</th>\n",
       "      <td>1</td>\n",
       "      <td>1</td>\n",
       "      <td>1870.0</td>\n",
       "      <td>1870.0</td>\n",
       "      <td>1870.000000</td>\n",
       "    </tr>\n",
       "    <tr>\n",
       "      <th>A. Davanne &amp; M. Aleo</th>\n",
       "      <td>1</td>\n",
       "      <td>1</td>\n",
       "      <td>1850.0</td>\n",
       "      <td>1850.0</td>\n",
       "      <td>1850.000000</td>\n",
       "    </tr>\n",
       "    <tr>\n",
       "      <th>A. Doyen</th>\n",
       "      <td>1</td>\n",
       "      <td>1</td>\n",
       "      <td>1840.0</td>\n",
       "      <td>1840.0</td>\n",
       "      <td>1840.000000</td>\n",
       "    </tr>\n",
       "    <tr>\n",
       "      <th>A. Fortier</th>\n",
       "      <td>1</td>\n",
       "      <td>1</td>\n",
       "      <td>1850.0</td>\n",
       "      <td>1850.0</td>\n",
       "      <td>1850.000000</td>\n",
       "    </tr>\n",
       "    <tr>\n",
       "      <th>...</th>\n",
       "      <td>...</td>\n",
       "      <td>...</td>\n",
       "      <td>...</td>\n",
       "      <td>...</td>\n",
       "      <td>...</td>\n",
       "    </tr>\n",
       "    <tr>\n",
       "      <th>weduwe Jacobus van Egmont</th>\n",
       "      <td>1</td>\n",
       "      <td>1</td>\n",
       "      <td>1724.0</td>\n",
       "      <td>1724.0</td>\n",
       "      <td>1724.000000</td>\n",
       "    </tr>\n",
       "    <tr>\n",
       "      <th>Édouard Denis Baldus</th>\n",
       "      <td>8</td>\n",
       "      <td>7</td>\n",
       "      <td>1855.0</td>\n",
       "      <td>1861.0</td>\n",
       "      <td>1857.750000</td>\n",
       "    </tr>\n",
       "    <tr>\n",
       "      <th>Émile Bernard</th>\n",
       "      <td>1</td>\n",
       "      <td>1</td>\n",
       "      <td>1897.0</td>\n",
       "      <td>1897.0</td>\n",
       "      <td>1897.000000</td>\n",
       "    </tr>\n",
       "    <tr>\n",
       "      <th>Émile Fürst</th>\n",
       "      <td>1</td>\n",
       "      <td>1</td>\n",
       "      <td>1864.0</td>\n",
       "      <td>1864.0</td>\n",
       "      <td>1864.000000</td>\n",
       "    </tr>\n",
       "    <tr>\n",
       "      <th>Étienne Neurdein</th>\n",
       "      <td>9</td>\n",
       "      <td>7</td>\n",
       "      <td>1860.0</td>\n",
       "      <td>1880.0</td>\n",
       "      <td>1877.777778</td>\n",
       "    </tr>\n",
       "  </tbody>\n",
       "</table>\n",
       "<p>2221 rows × 5 columns</p>\n",
       "</div>"
      ],
      "text/plain": [
       "                           size  sub_title     min     max         mean\n",
       "principal_maker                                                        \n",
       "A. Böeseken                   5          5  1858.0  1873.0  1865.800000\n",
       "A. Cucumus & Cie.             1          1  1870.0  1870.0  1870.000000\n",
       "A. Davanne & M. Aleo          1          1  1850.0  1850.0  1850.000000\n",
       "A. Doyen                      1          1  1840.0  1840.0  1840.000000\n",
       "A. Fortier                    1          1  1850.0  1850.0  1850.000000\n",
       "...                         ...        ...     ...     ...          ...\n",
       "weduwe Jacobus van Egmont     1          1  1724.0  1724.0  1724.000000\n",
       "Édouard Denis Baldus          8          7  1855.0  1861.0  1857.750000\n",
       "Émile Bernard                 1          1  1897.0  1897.0  1897.000000\n",
       "Émile Fürst                   1          1  1864.0  1864.0  1864.000000\n",
       "Étienne Neurdein              9          7  1860.0  1880.0  1877.777778\n",
       "\n",
       "[2221 rows x 5 columns]"
      ]
     },
     "execution_count": 18,
     "metadata": {},
     "output_type": "execute_result"
    }
   ],
   "source": [
    "agg_df = pd.concat([\n",
    "    group.size().rename('size'), # 著者が何回出てくるか. (value_counts と同じです)\n",
    "    group['sub_title'].nunique(), # 著者ごとに何種類の sub_title を持っているか\n",
    "    group['dating_sorting_date'].agg(['min', 'max', 'mean']), # 著者ごとに描いた年度の最小・最大・平均 (agg に配列を渡すと同時に複数やってくれます)\n",
    "], axis=1)\n",
    "\n",
    "agg_df"
   ]
  },
  {
   "cell_type": "code",
   "execution_count": 19,
   "metadata": {},
   "outputs": [
    {
     "data": {
      "text/plain": [
       "6191        41\n",
       "3420       105\n",
       "2769        76\n",
       "6842       129\n",
       "9506       102\n",
       "         ...  \n",
       "10463      552\n",
       "10956    38478\n",
       "11023       23\n",
       "11764        7\n",
       "12016       49\n",
       "Name: likes, Length: 12026, dtype: int64"
      ]
     },
     "execution_count": 19,
     "metadata": {},
     "output_type": "execute_result"
    }
   ],
   "source": [
    "# 作者ごとに,それまでの年度の絵で獲得した合計のいいね数は?\n",
    "sorted_group = train_df.sort_values('dating_year_late').groupby('principal_maker')\n",
    "sorted_group['likes'].cumsum()"
   ]
  },
  {
   "cell_type": "code",
   "execution_count": 20,
   "metadata": {},
   "outputs": [],
   "source": [
    "# Q1: タイトルごとの獲得良いね数の合計は?\n",
    "# Q2: 年度と獲得手法ごとの作家のユニークな数は?\n",
    "# Q3: 同一タイトル内で、もっとも獲得良いねが多い作家の名前は?\n",
    "# Q4: 作者ごとの最高に良いねがもらえた作品名は?"
   ]
  },
  {
   "cell_type": "markdown",
   "metadata": {},
   "source": [
    "### データ同士のマージ\n",
    "\n",
    "基本的に left join だけわかっておけば大丈夫なことがおおいので left join を出来るようになりましょう。先ほどつくった集約情報を train_df の `\"principal_maker\"` 列へひも付け、をやってみます。"
   ]
  },
  {
   "cell_type": "code",
   "execution_count": 21,
   "metadata": {},
   "outputs": [
    {
     "data": {
      "text/html": [
       "<div>\n",
       "<style scoped>\n",
       "    .dataframe tbody tr th:only-of-type {\n",
       "        vertical-align: middle;\n",
       "    }\n",
       "\n",
       "    .dataframe tbody tr th {\n",
       "        vertical-align: top;\n",
       "    }\n",
       "\n",
       "    .dataframe thead th {\n",
       "        text-align: right;\n",
       "    }\n",
       "</style>\n",
       "<table border=\"1\" class=\"dataframe\">\n",
       "  <thead>\n",
       "    <tr style=\"text-align: right;\">\n",
       "      <th></th>\n",
       "      <th>principal_maker</th>\n",
       "      <th>size</th>\n",
       "      <th>sub_title</th>\n",
       "      <th>min</th>\n",
       "      <th>max</th>\n",
       "      <th>mean</th>\n",
       "    </tr>\n",
       "  </thead>\n",
       "  <tbody>\n",
       "    <tr>\n",
       "      <th>0</th>\n",
       "      <td>Jan Hackaert</td>\n",
       "      <td>3</td>\n",
       "      <td>3</td>\n",
       "      <td>1660.0</td>\n",
       "      <td>1660.0</td>\n",
       "      <td>1660.000000</td>\n",
       "    </tr>\n",
       "    <tr>\n",
       "      <th>1</th>\n",
       "      <td>Richard Tepe</td>\n",
       "      <td>180</td>\n",
       "      <td>149</td>\n",
       "      <td>1900.0</td>\n",
       "      <td>1920.0</td>\n",
       "      <td>1900.194444</td>\n",
       "    </tr>\n",
       "    <tr>\n",
       "      <th>2</th>\n",
       "      <td>Tresling &amp; Comp.</td>\n",
       "      <td>1</td>\n",
       "      <td>1</td>\n",
       "      <td>1860.0</td>\n",
       "      <td>1860.0</td>\n",
       "      <td>1860.000000</td>\n",
       "    </tr>\n",
       "    <tr>\n",
       "      <th>3</th>\n",
       "      <td>Bernard te Gempt</td>\n",
       "      <td>1</td>\n",
       "      <td>1</td>\n",
       "      <td>1850.0</td>\n",
       "      <td>1850.0</td>\n",
       "      <td>1850.000000</td>\n",
       "    </tr>\n",
       "    <tr>\n",
       "      <th>4</th>\n",
       "      <td>anonymous</td>\n",
       "      <td>1692</td>\n",
       "      <td>1413</td>\n",
       "      <td>1250.0</td>\n",
       "      <td>1952.0</td>\n",
       "      <td>1783.027778</td>\n",
       "    </tr>\n",
       "    <tr>\n",
       "      <th>...</th>\n",
       "      <td>...</td>\n",
       "      <td>...</td>\n",
       "      <td>...</td>\n",
       "      <td>...</td>\n",
       "      <td>...</td>\n",
       "      <td>...</td>\n",
       "    </tr>\n",
       "    <tr>\n",
       "      <th>12021</th>\n",
       "      <td>Delboy &amp; Baer</td>\n",
       "      <td>1</td>\n",
       "      <td>1</td>\n",
       "      <td>1900.0</td>\n",
       "      <td>1900.0</td>\n",
       "      <td>1900.000000</td>\n",
       "    </tr>\n",
       "    <tr>\n",
       "      <th>12022</th>\n",
       "      <td>Abraham Allard</td>\n",
       "      <td>13</td>\n",
       "      <td>13</td>\n",
       "      <td>1701.0</td>\n",
       "      <td>1703.0</td>\n",
       "      <td>1701.384615</td>\n",
       "    </tr>\n",
       "    <tr>\n",
       "      <th>12023</th>\n",
       "      <td>Noach van der Meer (II)</td>\n",
       "      <td>2</td>\n",
       "      <td>2</td>\n",
       "      <td>1778.0</td>\n",
       "      <td>1787.0</td>\n",
       "      <td>1782.500000</td>\n",
       "    </tr>\n",
       "    <tr>\n",
       "      <th>12024</th>\n",
       "      <td>Romeyn de Hooghe</td>\n",
       "      <td>132</td>\n",
       "      <td>129</td>\n",
       "      <td>1655.0</td>\n",
       "      <td>1758.0</td>\n",
       "      <td>1682.318182</td>\n",
       "    </tr>\n",
       "    <tr>\n",
       "      <th>12025</th>\n",
       "      <td>Bartolommeo Suardi</td>\n",
       "      <td>1</td>\n",
       "      <td>1</td>\n",
       "      <td>1500.0</td>\n",
       "      <td>1500.0</td>\n",
       "      <td>1500.000000</td>\n",
       "    </tr>\n",
       "  </tbody>\n",
       "</table>\n",
       "<p>12026 rows × 6 columns</p>\n",
       "</div>"
      ],
      "text/plain": [
       "               principal_maker  size  sub_title     min     max         mean\n",
       "0                 Jan Hackaert     3          3  1660.0  1660.0  1660.000000\n",
       "1                 Richard Tepe   180        149  1900.0  1920.0  1900.194444\n",
       "2             Tresling & Comp.     1          1  1860.0  1860.0  1860.000000\n",
       "3             Bernard te Gempt     1          1  1850.0  1850.0  1850.000000\n",
       "4                    anonymous  1692       1413  1250.0  1952.0  1783.027778\n",
       "...                        ...   ...        ...     ...     ...          ...\n",
       "12021            Delboy & Baer     1          1  1900.0  1900.0  1900.000000\n",
       "12022           Abraham Allard    13         13  1701.0  1703.0  1701.384615\n",
       "12023  Noach van der Meer (II)     2          2  1778.0  1787.0  1782.500000\n",
       "12024         Romeyn de Hooghe   132        129  1655.0  1758.0  1682.318182\n",
       "12025       Bartolommeo Suardi     1          1  1500.0  1500.0  1500.000000\n",
       "\n",
       "[12026 rows x 6 columns]"
      ]
     },
     "execution_count": 21,
     "metadata": {},
     "output_type": "execute_result"
    }
   ],
   "source": [
    "pd.merge(train_df['principal_maker'], \n",
    "         agg_df,\n",
    "         on='principal_maker', \n",
    "         how='left')"
   ]
  },
  {
   "cell_type": "code",
   "execution_count": 22,
   "metadata": {},
   "outputs": [
    {
     "data": {
      "text/plain": [
       "(12026, 19)"
      ]
     },
     "execution_count": 22,
     "metadata": {},
     "output_type": "execute_result"
    }
   ],
   "source": [
    "train_df.shape"
   ]
  },
  {
   "cell_type": "markdown",
   "metadata": {},
   "source": [
    "left join をしているので `train_df` と同じ長さのデータフレームになっていることがわかります。"
   ]
  },
  {
   "cell_type": "markdown",
   "metadata": {},
   "source": [
    "\n",
    "### 特徴量とは何か\n",
    "\n",
    "予測変数に紐付いた説明変数のことを「特徴量」と呼びます。近年の進歩でたくさんのアルゴリズムが開発され予測能力は向上していますが、アルゴリズムに入力するデータは人間が用意しなくてはなりません。この予測の元になるデータを特徴量とよび、アルゴリズムが理解しやすい特徴量を作ることを特徴量エンジニアリングと呼びます。\n",
    "\n",
    "基本的に特徴量は予測対象に対しての数値です。今回は特定の絵画 `object_id` に対して良いねを予測するので、特徴量も `object_id` に対して紐づくようなものを作る必要があります。\n",
    "\n",
    "一番簡単なのは art_object table (train/test.csv) にある Column をそのまま使う方法です。これは明らかに 1-1 の関係ですね。"
   ]
  },
  {
   "cell_type": "markdown",
   "metadata": {},
   "source": [
    "### 機械学習モデルが扱える形式に直す\n",
    "\n",
    "機械学習が理解できるのは基本的に数値の形式のみです。テキストや画像などを取り扱う場合もありますが、それらもピクセルのRGBやNLPの手法により、最終的に数値化されて機械学習へとインプットされています。数値への変換は人間の仕事です。\n",
    "\n",
    "### NumericなColumn\n",
    "\n",
    "今回のデータで言うと数字なのは dating 系の値です。これらはそのまま使いましょう"
   ]
  },
  {
   "cell_type": "code",
   "execution_count": 23,
   "metadata": {},
   "outputs": [],
   "source": [
    "def create_numeric_feature(input_df):\n",
    "    use_columns = [\n",
    "        'dating_period',\n",
    "        'dating_year_early',\n",
    "        'dating_year_late'\n",
    "    ]\n",
    "    \n",
    "    return input_df[use_columns].copy()"
   ]
  },
  {
   "cell_type": "code",
   "execution_count": 24,
   "metadata": {},
   "outputs": [
    {
     "data": {
      "text/html": [
       "<div>\n",
       "<style scoped>\n",
       "    .dataframe tbody tr th:only-of-type {\n",
       "        vertical-align: middle;\n",
       "    }\n",
       "\n",
       "    .dataframe tbody tr th {\n",
       "        vertical-align: top;\n",
       "    }\n",
       "\n",
       "    .dataframe thead th {\n",
       "        text-align: right;\n",
       "    }\n",
       "</style>\n",
       "<table border=\"1\" class=\"dataframe\">\n",
       "  <thead>\n",
       "    <tr style=\"text-align: right;\">\n",
       "      <th></th>\n",
       "      <th>dating_period</th>\n",
       "      <th>dating_year_early</th>\n",
       "      <th>dating_year_late</th>\n",
       "    </tr>\n",
       "  </thead>\n",
       "  <tbody>\n",
       "    <tr>\n",
       "      <th>0</th>\n",
       "      <td>17</td>\n",
       "      <td>1660.0</td>\n",
       "      <td>1685.0</td>\n",
       "    </tr>\n",
       "    <tr>\n",
       "      <th>1</th>\n",
       "      <td>19</td>\n",
       "      <td>1900.0</td>\n",
       "      <td>1930.0</td>\n",
       "    </tr>\n",
       "    <tr>\n",
       "      <th>2</th>\n",
       "      <td>19</td>\n",
       "      <td>1860.0</td>\n",
       "      <td>1880.0</td>\n",
       "    </tr>\n",
       "    <tr>\n",
       "      <th>3</th>\n",
       "      <td>19</td>\n",
       "      <td>1850.0</td>\n",
       "      <td>1879.0</td>\n",
       "    </tr>\n",
       "    <tr>\n",
       "      <th>4</th>\n",
       "      <td>19</td>\n",
       "      <td>1825.0</td>\n",
       "      <td>1874.0</td>\n",
       "    </tr>\n",
       "    <tr>\n",
       "      <th>...</th>\n",
       "      <td>...</td>\n",
       "      <td>...</td>\n",
       "      <td>...</td>\n",
       "    </tr>\n",
       "    <tr>\n",
       "      <th>12021</th>\n",
       "      <td>19</td>\n",
       "      <td>1900.0</td>\n",
       "      <td>1920.0</td>\n",
       "    </tr>\n",
       "    <tr>\n",
       "      <th>12022</th>\n",
       "      <td>18</td>\n",
       "      <td>1701.0</td>\n",
       "      <td>1714.0</td>\n",
       "    </tr>\n",
       "    <tr>\n",
       "      <th>12023</th>\n",
       "      <td>18</td>\n",
       "      <td>1778.0</td>\n",
       "      <td>1778.0</td>\n",
       "    </tr>\n",
       "    <tr>\n",
       "      <th>12024</th>\n",
       "      <td>17</td>\n",
       "      <td>1689.0</td>\n",
       "      <td>1690.0</td>\n",
       "    </tr>\n",
       "    <tr>\n",
       "      <th>12025</th>\n",
       "      <td>15</td>\n",
       "      <td>1500.0</td>\n",
       "      <td>1535.0</td>\n",
       "    </tr>\n",
       "  </tbody>\n",
       "</table>\n",
       "<p>12026 rows × 3 columns</p>\n",
       "</div>"
      ],
      "text/plain": [
       "       dating_period  dating_year_early  dating_year_late\n",
       "0                 17             1660.0            1685.0\n",
       "1                 19             1900.0            1930.0\n",
       "2                 19             1860.0            1880.0\n",
       "3                 19             1850.0            1879.0\n",
       "4                 19             1825.0            1874.0\n",
       "...              ...                ...               ...\n",
       "12021             19             1900.0            1920.0\n",
       "12022             18             1701.0            1714.0\n",
       "12023             18             1778.0            1778.0\n",
       "12024             17             1689.0            1690.0\n",
       "12025             15             1500.0            1535.0\n",
       "\n",
       "[12026 rows x 3 columns]"
      ]
     },
     "execution_count": 24,
     "metadata": {},
     "output_type": "execute_result"
    }
   ],
   "source": [
    "create_numeric_feature(train_df)"
   ]
  },
  {
   "cell_type": "markdown",
   "metadata": {},
   "source": [
    "### テキスト系のカラム\n",
    "\n",
    "基本的にこうやってどんどんと特徴量と呼ばれるものを作っていきます。次はテキスト系を使ってみましょう。\n",
    "\n",
    "テキストを最も簡単に数値にするには? そう長さを計れば良いのです。\n",
    "pandas.Series には `str` という attribute があり、これを介することで文字列とした時の長さを計算できます。"
   ]
  },
  {
   "cell_type": "code",
   "execution_count": 25,
   "metadata": {},
   "outputs": [
    {
     "data": {
      "text/plain": [
       "0        21\n",
       "1        15\n",
       "2        21\n",
       "3        16\n",
       "4        27\n",
       "         ..\n",
       "12021    37\n",
       "12022    60\n",
       "12023    54\n",
       "12024    29\n",
       "12025    30\n",
       "Name: title, Length: 12026, dtype: int64"
      ]
     },
     "execution_count": 25,
     "metadata": {},
     "output_type": "execute_result"
    }
   ],
   "source": [
    "train_df['title'].str.len()"
   ]
  },
  {
   "cell_type": "code",
   "execution_count": 26,
   "metadata": {},
   "outputs": [],
   "source": [
    "def create_string_length_feature(input_df):\n",
    "    out_df = pd.DataFrame()\n",
    "    \n",
    "    str_columns = [\n",
    "        'title', \n",
    "        'long_title',\n",
    "        'sub_title',\n",
    "        'more_title'\n",
    "        # and more\n",
    "    ]\n",
    "    \n",
    "    for c in str_columns:\n",
    "        out_df[c] = input_df[c].str.len()\n",
    "        \n",
    "    return out_df.add_prefix('StringLength__')"
   ]
  },
  {
   "cell_type": "markdown",
   "metadata": {},
   "source": [
    "### カテゴリ系のカラム\n",
    "\n",
    "文字列や数値だけれどユニークな数が少なくてカテゴリとみなせるものがあるでしょう。例えば性別カラムで中身が `\"男\"`, `\"女\"`, `\"他\"` と入っているような場合ですね。(これらに対して先ほどの文字列の長さを適用すると、すべて同じ値になってしまって予測の際に差分がなくて意味がないことに注意してください。)\n",
    "\n",
    "カテゴリ系のカラムはいくつかの変換方法があります。ここでは王道として CountEncoding と OneHotEncoding を紹介します。"
   ]
  },
  {
   "cell_type": "markdown",
   "metadata": {},
   "source": [
    "### CountEncoding"
   ]
  },
  {
   "cell_type": "code",
   "execution_count": 27,
   "metadata": {},
   "outputs": [
    {
     "data": {
      "text/plain": [
       "[1, 1, 1, 2]"
      ]
     },
     "execution_count": 27,
     "metadata": {},
     "output_type": "execute_result"
    }
   ],
   "source": [
    "[1, 1, 1, 2]"
   ]
  },
  {
   "cell_type": "code",
   "execution_count": 28,
   "metadata": {},
   "outputs": [
    {
     "data": {
      "text/plain": [
       "[3, 3, 3, 1]"
      ]
     },
     "execution_count": 28,
     "metadata": {},
     "output_type": "execute_result"
    }
   ],
   "source": [
    "[3, 3, 3, 1]"
   ]
  },
  {
   "cell_type": "code",
   "execution_count": 29,
   "metadata": {},
   "outputs": [],
   "source": [
    "def create_count_encoding_feature(input_df):\n",
    "    use_columns = [\n",
    "        'acquisition_method',\n",
    "        'title',\n",
    "        'principal_maker',\n",
    "        # and more\n",
    "    ]\n",
    "    \n",
    "    out_df = pd.DataFrame()\n",
    "    for column in use_columns:\n",
    "        vc = train_df[column].value_counts()\n",
    "        out_df[column] = input_df[column].map(vc)\n",
    "    \n",
    "    return out_df.add_prefix('CE_')"
   ]
  },
  {
   "cell_type": "code",
   "execution_count": 30,
   "metadata": {},
   "outputs": [
    {
     "data": {
      "text/html": [
       "<div>\n",
       "<style scoped>\n",
       "    .dataframe tbody tr th:only-of-type {\n",
       "        vertical-align: middle;\n",
       "    }\n",
       "\n",
       "    .dataframe tbody tr th {\n",
       "        vertical-align: top;\n",
       "    }\n",
       "\n",
       "    .dataframe thead th {\n",
       "        text-align: right;\n",
       "    }\n",
       "</style>\n",
       "<table border=\"1\" class=\"dataframe\">\n",
       "  <thead>\n",
       "    <tr style=\"text-align: right;\">\n",
       "      <th></th>\n",
       "      <th>CE_acquisition_method</th>\n",
       "      <th>CE_title</th>\n",
       "      <th>CE_principal_maker</th>\n",
       "    </tr>\n",
       "  </thead>\n",
       "  <tbody>\n",
       "    <tr>\n",
       "      <th>0</th>\n",
       "      <td>4253.0</td>\n",
       "      <td>1</td>\n",
       "      <td>3</td>\n",
       "    </tr>\n",
       "    <tr>\n",
       "      <th>1</th>\n",
       "      <td>4253.0</td>\n",
       "      <td>1</td>\n",
       "      <td>180</td>\n",
       "    </tr>\n",
       "    <tr>\n",
       "      <th>2</th>\n",
       "      <td>1578.0</td>\n",
       "      <td>21</td>\n",
       "      <td>1</td>\n",
       "    </tr>\n",
       "    <tr>\n",
       "      <th>3</th>\n",
       "      <td>584.0</td>\n",
       "      <td>1</td>\n",
       "      <td>1</td>\n",
       "    </tr>\n",
       "    <tr>\n",
       "      <th>4</th>\n",
       "      <td>1157.0</td>\n",
       "      <td>1</td>\n",
       "      <td>1692</td>\n",
       "    </tr>\n",
       "    <tr>\n",
       "      <th>...</th>\n",
       "      <td>...</td>\n",
       "      <td>...</td>\n",
       "      <td>...</td>\n",
       "    </tr>\n",
       "    <tr>\n",
       "      <th>12021</th>\n",
       "      <td>3795.0</td>\n",
       "      <td>1</td>\n",
       "      <td>1</td>\n",
       "    </tr>\n",
       "    <tr>\n",
       "      <th>12022</th>\n",
       "      <td>4253.0</td>\n",
       "      <td>1</td>\n",
       "      <td>13</td>\n",
       "    </tr>\n",
       "    <tr>\n",
       "      <th>12023</th>\n",
       "      <td>3795.0</td>\n",
       "      <td>1</td>\n",
       "      <td>2</td>\n",
       "    </tr>\n",
       "    <tr>\n",
       "      <th>12024</th>\n",
       "      <td>4253.0</td>\n",
       "      <td>1</td>\n",
       "      <td>132</td>\n",
       "    </tr>\n",
       "    <tr>\n",
       "      <th>12025</th>\n",
       "      <td>584.0</td>\n",
       "      <td>4</td>\n",
       "      <td>1</td>\n",
       "    </tr>\n",
       "  </tbody>\n",
       "</table>\n",
       "<p>12026 rows × 3 columns</p>\n",
       "</div>"
      ],
      "text/plain": [
       "       CE_acquisition_method  CE_title  CE_principal_maker\n",
       "0                     4253.0         1                   3\n",
       "1                     4253.0         1                 180\n",
       "2                     1578.0        21                   1\n",
       "3                      584.0         1                   1\n",
       "4                     1157.0         1                1692\n",
       "...                      ...       ...                 ...\n",
       "12021                 3795.0         1                   1\n",
       "12022                 4253.0         1                  13\n",
       "12023                 3795.0         1                   2\n",
       "12024                 4253.0         1                 132\n",
       "12025                  584.0         4                   1\n",
       "\n",
       "[12026 rows x 3 columns]"
      ]
     },
     "execution_count": 30,
     "metadata": {},
     "output_type": "execute_result"
    }
   ],
   "source": [
    "create_count_encoding_feature(train_df)"
   ]
  },
  {
   "cell_type": "code",
   "execution_count": 31,
   "metadata": {},
   "outputs": [],
   "source": [
    "assert len(create_count_encoding_feature(train_df)) == len(train_df)\n",
    "assert create_count_encoding_feature(train_df).equals(create_count_encoding_feature(train_df))"
   ]
  },
  {
   "cell_type": "markdown",
   "metadata": {},
   "source": [
    "### OneHotEncoding\n",
    "\n",
    "例えば `[\"a\", \"b\", \"a\"]` という列を\n",
    "\n",
    "```python\n",
    "[\n",
    "    [1, 0],\n",
    "    [0, 1],\n",
    "    [1, 0]\n",
    "]\n",
    "```\n",
    "\n",
    "のように変換する操作を One-Hot-Encoding と言います。各行の第 `i` 番目の要素にその値が i 番目の要素と一致するかどうかの 0-1 の値が入ります。pandas でこれをやる場合には \n",
    "\n",
    "1. 一度 Series を Categorical に変換\n",
    "2. pandas.get_dummies に渡す\n",
    "\n",
    "という流れが簡単です。One Hot Encoding はカテゴリのユニーク数(カーディナリティとも言います)が多い時、列方向に巨大な sparse 行列になってしまうのが欠点です。濃度が大きい場合には Label Encoding など他の方法を試してみてください。"
   ]
  },
  {
   "cell_type": "code",
   "execution_count": 32,
   "metadata": {},
   "outputs": [],
   "source": [
    "column = 'acquisition_method'"
   ]
  },
  {
   "cell_type": "code",
   "execution_count": 33,
   "metadata": {},
   "outputs": [],
   "source": [
    "vc = train_df[column].value_counts()\n",
    "categories = vc[vc > 20].index"
   ]
  },
  {
   "cell_type": "code",
   "execution_count": 34,
   "metadata": {},
   "outputs": [
    {
     "data": {
      "text/plain": [
       "Index(['purchase', 'transfer', 'gift', 'unknown', 'bequest', 'loan',\n",
       "       'nationalization 1795'],\n",
       "      dtype='object')"
      ]
     },
     "execution_count": 34,
     "metadata": {},
     "output_type": "execute_result"
    }
   ],
   "source": [
    "categories"
   ]
  },
  {
   "cell_type": "code",
   "execution_count": 35,
   "metadata": {},
   "outputs": [],
   "source": [
    "# categories を明示的に指定することでカテゴリ数を固定できます\n",
    "cat = pd.Categorical(train_df[column], categories=categories)"
   ]
  },
  {
   "cell_type": "code",
   "execution_count": 36,
   "metadata": {},
   "outputs": [
    {
     "data": {
      "text/html": [
       "<div>\n",
       "<style scoped>\n",
       "    .dataframe tbody tr th:only-of-type {\n",
       "        vertical-align: middle;\n",
       "    }\n",
       "\n",
       "    .dataframe tbody tr th {\n",
       "        vertical-align: top;\n",
       "    }\n",
       "\n",
       "    .dataframe thead th {\n",
       "        text-align: right;\n",
       "    }\n",
       "</style>\n",
       "<table border=\"1\" class=\"dataframe\">\n",
       "  <thead>\n",
       "    <tr style=\"text-align: right;\">\n",
       "      <th></th>\n",
       "      <th>purchase</th>\n",
       "      <th>transfer</th>\n",
       "      <th>gift</th>\n",
       "      <th>unknown</th>\n",
       "      <th>bequest</th>\n",
       "      <th>loan</th>\n",
       "      <th>nationalization 1795</th>\n",
       "    </tr>\n",
       "  </thead>\n",
       "  <tbody>\n",
       "    <tr>\n",
       "      <th>0</th>\n",
       "      <td>1</td>\n",
       "      <td>0</td>\n",
       "      <td>0</td>\n",
       "      <td>0</td>\n",
       "      <td>0</td>\n",
       "      <td>0</td>\n",
       "      <td>0</td>\n",
       "    </tr>\n",
       "    <tr>\n",
       "      <th>1</th>\n",
       "      <td>1</td>\n",
       "      <td>0</td>\n",
       "      <td>0</td>\n",
       "      <td>0</td>\n",
       "      <td>0</td>\n",
       "      <td>0</td>\n",
       "      <td>0</td>\n",
       "    </tr>\n",
       "    <tr>\n",
       "      <th>2</th>\n",
       "      <td>0</td>\n",
       "      <td>0</td>\n",
       "      <td>1</td>\n",
       "      <td>0</td>\n",
       "      <td>0</td>\n",
       "      <td>0</td>\n",
       "      <td>0</td>\n",
       "    </tr>\n",
       "    <tr>\n",
       "      <th>3</th>\n",
       "      <td>0</td>\n",
       "      <td>0</td>\n",
       "      <td>0</td>\n",
       "      <td>0</td>\n",
       "      <td>1</td>\n",
       "      <td>0</td>\n",
       "      <td>0</td>\n",
       "    </tr>\n",
       "    <tr>\n",
       "      <th>4</th>\n",
       "      <td>0</td>\n",
       "      <td>0</td>\n",
       "      <td>0</td>\n",
       "      <td>1</td>\n",
       "      <td>0</td>\n",
       "      <td>0</td>\n",
       "      <td>0</td>\n",
       "    </tr>\n",
       "    <tr>\n",
       "      <th>...</th>\n",
       "      <td>...</td>\n",
       "      <td>...</td>\n",
       "      <td>...</td>\n",
       "      <td>...</td>\n",
       "      <td>...</td>\n",
       "      <td>...</td>\n",
       "      <td>...</td>\n",
       "    </tr>\n",
       "    <tr>\n",
       "      <th>12021</th>\n",
       "      <td>0</td>\n",
       "      <td>1</td>\n",
       "      <td>0</td>\n",
       "      <td>0</td>\n",
       "      <td>0</td>\n",
       "      <td>0</td>\n",
       "      <td>0</td>\n",
       "    </tr>\n",
       "    <tr>\n",
       "      <th>12022</th>\n",
       "      <td>1</td>\n",
       "      <td>0</td>\n",
       "      <td>0</td>\n",
       "      <td>0</td>\n",
       "      <td>0</td>\n",
       "      <td>0</td>\n",
       "      <td>0</td>\n",
       "    </tr>\n",
       "    <tr>\n",
       "      <th>12023</th>\n",
       "      <td>0</td>\n",
       "      <td>1</td>\n",
       "      <td>0</td>\n",
       "      <td>0</td>\n",
       "      <td>0</td>\n",
       "      <td>0</td>\n",
       "      <td>0</td>\n",
       "    </tr>\n",
       "    <tr>\n",
       "      <th>12024</th>\n",
       "      <td>1</td>\n",
       "      <td>0</td>\n",
       "      <td>0</td>\n",
       "      <td>0</td>\n",
       "      <td>0</td>\n",
       "      <td>0</td>\n",
       "      <td>0</td>\n",
       "    </tr>\n",
       "    <tr>\n",
       "      <th>12025</th>\n",
       "      <td>0</td>\n",
       "      <td>0</td>\n",
       "      <td>0</td>\n",
       "      <td>0</td>\n",
       "      <td>1</td>\n",
       "      <td>0</td>\n",
       "      <td>0</td>\n",
       "    </tr>\n",
       "  </tbody>\n",
       "</table>\n",
       "<p>12026 rows × 7 columns</p>\n",
       "</div>"
      ],
      "text/plain": [
       "       purchase  transfer  gift  unknown  bequest  loan  nationalization 1795\n",
       "0             1         0     0        0        0     0                     0\n",
       "1             1         0     0        0        0     0                     0\n",
       "2             0         0     1        0        0     0                     0\n",
       "3             0         0     0        0        1     0                     0\n",
       "4             0         0     0        1        0     0                     0\n",
       "...         ...       ...   ...      ...      ...   ...                   ...\n",
       "12021         0         1     0        0        0     0                     0\n",
       "12022         1         0     0        0        0     0                     0\n",
       "12023         0         1     0        0        0     0                     0\n",
       "12024         1         0     0        0        0     0                     0\n",
       "12025         0         0     0        0        1     0                     0\n",
       "\n",
       "[12026 rows x 7 columns]"
      ]
     },
     "execution_count": 36,
     "metadata": {},
     "output_type": "execute_result"
    }
   ],
   "source": [
    "pd.get_dummies(cat)"
   ]
  },
  {
   "cell_type": "code",
   "execution_count": 37,
   "metadata": {},
   "outputs": [],
   "source": [
    "def create_one_hot_encoding(input_df):\n",
    "    use_columns = [\n",
    "        'acquisition_method',\n",
    "        'principal_maker'\n",
    "    ]\n",
    "    out_df = pd.DataFrame()\n",
    "    for column in use_columns:\n",
    "        \n",
    "        # あまり巨大な行列にならないよう, 出現回数が 20 回を下回るカテゴリは考慮しない\n",
    "        vc = train_df[column].value_counts()\n",
    "        vc = vc[vc > 20]\n",
    "        \n",
    "        # 明示的に catgories を指定して, input_df によらず列の大きさが等しくなるようにする\n",
    "        cat = pd.Categorical(input_df[column], categories=vc.index)\n",
    "        \n",
    "        # このタイミングで one-hot 化\n",
    "        out_i = pd.get_dummies(cat)\n",
    "        # column が Catgory 型として認識されているので list にして解除する (こうしないと concat でエラーになる)\n",
    "        out_i.columns = out_i.columns.tolist()\n",
    "        out_i = out_i.add_prefix(f'{column}=')\n",
    "        out_df = pd.concat([out_df, out_i], axis=1)\n",
    "    return out_df"
   ]
  },
  {
   "cell_type": "code",
   "execution_count": 38,
   "metadata": {},
   "outputs": [
    {
     "data": {
      "text/html": [
       "<div>\n",
       "<style scoped>\n",
       "    .dataframe tbody tr th:only-of-type {\n",
       "        vertical-align: middle;\n",
       "    }\n",
       "\n",
       "    .dataframe tbody tr th {\n",
       "        vertical-align: top;\n",
       "    }\n",
       "\n",
       "    .dataframe thead th {\n",
       "        text-align: right;\n",
       "    }\n",
       "</style>\n",
       "<table border=\"1\" class=\"dataframe\">\n",
       "  <thead>\n",
       "    <tr style=\"text-align: right;\">\n",
       "      <th></th>\n",
       "      <th>acquisition_method=purchase</th>\n",
       "      <th>acquisition_method=transfer</th>\n",
       "      <th>acquisition_method=gift</th>\n",
       "      <th>acquisition_method=unknown</th>\n",
       "      <th>acquisition_method=bequest</th>\n",
       "      <th>acquisition_method=loan</th>\n",
       "      <th>acquisition_method=nationalization 1795</th>\n",
       "      <th>principal_maker=anonymous</th>\n",
       "      <th>principal_maker=Johann Sadeler (I)</th>\n",
       "      <th>principal_maker=Bernard Picart</th>\n",
       "      <th>...</th>\n",
       "      <th>principal_maker=Rembrandt van Rijn</th>\n",
       "      <th>principal_maker=James Valentine</th>\n",
       "      <th>principal_maker=Jan Maurits Quinkhard</th>\n",
       "      <th>principal_maker=Adolphe Zimmermans</th>\n",
       "      <th>principal_maker=Wouter Johannes van Troostwijk</th>\n",
       "      <th>principal_maker=Cor Jaring</th>\n",
       "      <th>principal_maker=Jan Banning</th>\n",
       "      <th>principal_maker=Gerard Edelinck</th>\n",
       "      <th>principal_maker=Augusta Curiel</th>\n",
       "      <th>principal_maker=Jean Baptiste August Kessler</th>\n",
       "    </tr>\n",
       "  </thead>\n",
       "  <tbody>\n",
       "    <tr>\n",
       "      <th>0</th>\n",
       "      <td>1</td>\n",
       "      <td>0</td>\n",
       "      <td>0</td>\n",
       "      <td>0</td>\n",
       "      <td>0</td>\n",
       "      <td>0</td>\n",
       "      <td>0</td>\n",
       "      <td>0</td>\n",
       "      <td>0</td>\n",
       "      <td>0</td>\n",
       "      <td>...</td>\n",
       "      <td>0</td>\n",
       "      <td>0</td>\n",
       "      <td>0</td>\n",
       "      <td>0</td>\n",
       "      <td>0</td>\n",
       "      <td>0</td>\n",
       "      <td>0</td>\n",
       "      <td>0</td>\n",
       "      <td>0</td>\n",
       "      <td>0</td>\n",
       "    </tr>\n",
       "  </tbody>\n",
       "</table>\n",
       "<p>1 rows × 96 columns</p>\n",
       "</div>"
      ],
      "text/plain": [
       "   acquisition_method=purchase  acquisition_method=transfer  \\\n",
       "0                            1                            0   \n",
       "\n",
       "   acquisition_method=gift  acquisition_method=unknown  \\\n",
       "0                        0                           0   \n",
       "\n",
       "   acquisition_method=bequest  acquisition_method=loan  \\\n",
       "0                           0                        0   \n",
       "\n",
       "   acquisition_method=nationalization 1795  principal_maker=anonymous  \\\n",
       "0                                        0                          0   \n",
       "\n",
       "   principal_maker=Johann Sadeler (I)  principal_maker=Bernard Picart  ...  \\\n",
       "0                                   0                               0  ...   \n",
       "\n",
       "   principal_maker=Rembrandt van Rijn  principal_maker=James Valentine  \\\n",
       "0                                   0                                0   \n",
       "\n",
       "   principal_maker=Jan Maurits Quinkhard  principal_maker=Adolphe Zimmermans  \\\n",
       "0                                      0                                   0   \n",
       "\n",
       "   principal_maker=Wouter Johannes van Troostwijk  principal_maker=Cor Jaring  \\\n",
       "0                                               0                           0   \n",
       "\n",
       "   principal_maker=Jan Banning  principal_maker=Gerard Edelinck  \\\n",
       "0                            0                                0   \n",
       "\n",
       "   principal_maker=Augusta Curiel  \\\n",
       "0                               0   \n",
       "\n",
       "   principal_maker=Jean Baptiste August Kessler  \n",
       "0                                             0  \n",
       "\n",
       "[1 rows x 96 columns]"
      ]
     },
     "execution_count": 38,
     "metadata": {},
     "output_type": "execute_result"
    }
   ],
   "source": [
    "create_one_hot_encoding(train_df.head(1)).head()"
   ]
  },
  {
   "cell_type": "markdown",
   "metadata": {},
   "source": [
    "この他にも王道的なやり方としていくつかの特徴量への変換方法が存在しています。気になる方は Categorical Encoding などで調べてみると良いでしょう。\n",
    "\n",
    "> #### 参考文献\n",
    "* [lightGBM Baseline | @takoi san](https://www.guruguru.science/competitions/16/discussions/8d476062-3058-45a3-8a8c-d2d4973862b5/) では Label Encoding をつかった方法が紹介されています。"
   ]
  },
  {
   "cell_type": "code",
   "execution_count": 39,
   "metadata": {},
   "outputs": [],
   "source": [
    "# https://github.com/nyk510/vivid/blob/master/vivid/utils.py\n",
    "from contextlib import contextmanager\n",
    "from time import time\n",
    "\n",
    "class Timer:\n",
    "    def __init__(self, logger=None, format_str='{:.3f}[s]', prefix=None, suffix=None, sep=' '):\n",
    "\n",
    "        if prefix: format_str = str(prefix) + sep + format_str\n",
    "        if suffix: format_str = format_str + sep + str(suffix)\n",
    "        self.format_str = format_str\n",
    "        self.logger = logger\n",
    "        self.start = None\n",
    "        self.end = None\n",
    "\n",
    "    @property\n",
    "    def duration(self):\n",
    "        if self.end is None:\n",
    "            return 0\n",
    "        return self.end - self.start\n",
    "\n",
    "    def __enter__(self):\n",
    "        self.start = time()\n",
    "\n",
    "    def __exit__(self, exc_type, exc_val, exc_tb):\n",
    "        self.end = time()\n",
    "        out_str = self.format_str.format(self.duration)\n",
    "        if self.logger:\n",
    "            self.logger.info(out_str)\n",
    "        else:\n",
    "            print(out_str)"
   ]
  },
  {
   "cell_type": "code",
   "execution_count": 40,
   "metadata": {},
   "outputs": [],
   "source": [
    "from tqdm import tqdm\n",
    "\n",
    "def to_feature(input_df):\n",
    "    \"\"\"input_df を特徴量行列に変換した新しいデータフレームを返す.\n",
    "    \"\"\"\n",
    "    \n",
    "    processors = [\n",
    "        create_numeric_feature,\n",
    "        create_string_length_feature,\n",
    "        create_count_encoding_feature,\n",
    "        create_one_hot_encoding\n",
    "    ]\n",
    "    \n",
    "    out_df = pd.DataFrame()\n",
    "    \n",
    "    for func in tqdm(processors, total=len(processors)):\n",
    "        with Timer(prefix='create' + func.__name__ + ' '):\n",
    "            _df = func(input_df)\n",
    "        \n",
    "        # 長さが等しいことをチェック (ずれている場合, func の実装がおかしい)\n",
    "        assert len(_df) == len(input_df), func.__name__\n",
    "        out_df = pd.concat([out_df, _df], axis=1)\n",
    "        \n",
    "    return out_df"
   ]
  },
  {
   "cell_type": "code",
   "execution_count": 41,
   "metadata": {},
   "outputs": [
    {
     "name": "stderr",
     "output_type": "stream",
     "text": [
      "100%|██████████| 4/4 [00:00<00:00, 41.99it/s]\n",
      "100%|██████████| 4/4 [00:00<00:00, 71.68it/s]"
     ]
    },
    {
     "name": "stdout",
     "output_type": "stream",
     "text": [
      "createcreate_numeric_feature  0.004[s]\n",
      "createcreate_string_length_feature  0.061[s]\n",
      "createcreate_count_encoding_feature  0.015[s]\n",
      "createcreate_one_hot_encoding  0.010[s]\n",
      "createcreate_numeric_feature  0.001[s]\n",
      "createcreate_string_length_feature  0.025[s]\n",
      "createcreate_count_encoding_feature  0.015[s]\n",
      "createcreate_one_hot_encoding  0.010[s]\n"
     ]
    },
    {
     "name": "stderr",
     "output_type": "stream",
     "text": [
      "\n"
     ]
    }
   ],
   "source": [
    "train_feat_df = to_feature(train_df)\n",
    "test_feat_df = to_feature(test_df)"
   ]
  },
  {
   "cell_type": "code",
   "execution_count": 42,
   "metadata": {},
   "outputs": [],
   "source": [
    "assert len(test_feat_df) == len(test_df)"
   ]
  },
  {
   "cell_type": "markdown",
   "metadata": {},
   "source": [
    "## 学習を行なう\n",
    "\n",
    "特徴量を作成できたので次にモデルの学習を行っていきます。この時大事になるのが交差検証 (Cross Validation) という考え方です。\n",
    "\n",
    "### Cross Validation とは\n",
    "\n",
    "Cross Validation とは学習用のデータセットを複数に分割してそれぞれの分割で学習・検証のデータセットを作り、モデルの性能を見積もる枠組みのことです。\n",
    "\n",
    "### なんで Cross Validation するの?\n",
    "\n",
    "なぜわざわざ分割するの? (そのまま全部学習で使っちゃえばいいじゃない?) と思われるのが普通だと思います。なぜ分割するかというと学習データの中で今の枠組みの性能(枠組みと言っているのは特徴量・モデルの構成もろもろ全部が含まれるためです)を評価したいからです。手元で評価ができないとLBに出してみて一喜一憂するしかなくなり、結果publicLBにオーバーフィットしてしまうのでよろしくないです。\n",
    "\n",
    "> 仕事的な観点で言ってもLBに出すというのはデプロイ(本番へ反映すること)ですから、本番に出さないとモデルの良し悪しがわからないのはよろしくないですよね?\n",
    "\n",
    "一番ナイーブな戦略は `KFold` と呼ばれるものです。これは何も考えずにとにかくランダムに学習データを分割します。\n",
    "\n",
    "![](https://scikit-learn.org/stable/_images/sphx_glr_plot_cv_indices_0041.png)\n",
    "\n",
    "その他にターゲットの分布が同じになるように分割する Stratified と呼ばれる方法もあります。(今回行なうのはこの方法です)\n",
    "\n",
    "![](https://scikit-learn.org/stable/_images/sphx_glr_plot_cv_indices_0071.png)\n",
    "\n",
    "あとは「各分割で特定のグループが重ならないようにする」Group K Fold もよく使われます。(よく見ると 0 ~ 4 で group の行の色が被らないようになっているのわかりますか?)\n",
    "\n",
    "![](https://scikit-learn.org/stable/_images/sphx_glr_plot_cv_indices_0051.png)\n",
    "\n",
    "その他にも時系列で区切る time split という方法もあります。どれを使えばよいかは test データがどのように構成されているか依存なので、つどつどデータを見て決定します。"
   ]
  },
  {
   "cell_type": "markdown",
   "metadata": {},
   "source": [
    "### LightGBM による CrossValidation を用いた学習\n",
    "\n",
    "今回は使う機械学習モデルとして lightGBM を使います。lightGBM は以下のような良い性質があります。\n",
    "\n",
    "* 欠損値が存在している場合にも、欠損を埋めることなく自然に取り扱うことができる\n",
    "* 特徴重要度をさっと出すことができる\n",
    "* GBDT と呼ばれるアルゴリズムの一種で今回のタスクのようなテーブルデータで性能が高いことが知られている\n",
    "* CPU 環境でも高速に学習・推論が行える\n",
    "\n",
    "ほかにも理由はありますが u++ さんの [「初手LightGBM」をする7つの理由](https://upura.hatenablog.com/entry/2019/10/29/184617) などが参考になります。"
   ]
  },
  {
   "cell_type": "code",
   "execution_count": 43,
   "metadata": {},
   "outputs": [],
   "source": [
    "import lightgbm as lgbm\n",
    "from sklearn.metrics import mean_squared_error\n",
    "\n",
    "def fit_lgbm(X, \n",
    "             y, \n",
    "             cv, \n",
    "             params: dict=None, \n",
    "             verbose: int=50):\n",
    "    \"\"\"lightGBM を CrossValidation の枠組みで学習を行なう function\"\"\"\n",
    "\n",
    "    # パラメータがないときは、空の dict で置き換える\n",
    "    if params is None:\n",
    "        params = {}\n",
    "\n",
    "    models = []\n",
    "    # training data の target と同じだけのゼロ配列を用意\n",
    "    oof_pred = np.zeros_like(y, dtype=np.float)\n",
    "\n",
    "    for i, (idx_train, idx_valid) in enumerate(cv): \n",
    "        # この部分が交差検証のところです。データセットを cv instance によって分割します\n",
    "        # training data を trian/valid に分割\n",
    "        x_train, y_train = X[idx_train], y[idx_train]\n",
    "        x_valid, y_valid = X[idx_valid], y[idx_valid]\n",
    "\n",
    "        clf = lgbm.LGBMRegressor(**params)\n",
    "        \n",
    "        with Timer(prefix='fit fold={} '.format(i)):\n",
    "            clf.fit(x_train, y_train, \n",
    "                    eval_set=[(x_valid, y_valid)],  \n",
    "                    early_stopping_rounds=100,\n",
    "                    verbose=verbose)\n",
    "\n",
    "        pred_i = clf.predict(x_valid)\n",
    "        oof_pred[idx_valid] = pred_i\n",
    "        models.append(clf)\n",
    "        print(f'Fold {i} RMSLE: {mean_squared_error(y_valid, pred_i) ** .5:.4f}')\n",
    "\n",
    "    score = mean_squared_error(y, oof_pred) ** .5\n",
    "    print('-' * 50)\n",
    "    print('FINISHED | Whole RMSLE: {:.4f}'.format(score))\n",
    "    return oof_pred, models"
   ]
  },
  {
   "cell_type": "markdown",
   "metadata": {},
   "source": [
    "### parameter について\n",
    "\n",
    "LightGBM などの GBDT のパラメータは、そこまでセンシティブではありません。しかし、内部的にどういう意味を持つのかを知っておくと、問題ごとにどういうパラメータが良いかの感覚がわかったり、チューニングする際にも有効なパラメータに絞ってチューニングできますので、重要な変数に関してはその意味についてざっと目を通しておくことをおすすめします。\n",
    "\n",
    "以下参考文献です。\n",
    "\n",
    "* [勾配ブースティングで大事なパラメータの気持ち](https://nykergoto.hatenablog.jp/entry/2019/03/29/%E5%8B%BE%E9%85%8D%E3%83%96%E3%83%BC%E3%82%B9%E3%83%86%E3%82%A3%E3%83%B3%E3%82%B0%E3%81%A7%E5%A4%A7%E4%BA%8B%E3%81%AA%E3%83%91%E3%83%A9%E3%83%A1%E3%83%BC%E3%82%BF%E3%81%AE%E6%B0%97%E6%8C%81%E3%81%A1): 僕の書いた記事。日本語です。\n",
    "* [Parameters Tuning](https://lightgbm.readthedocs.io/en/latest/Parameters-Tuning.html): lightGBM 公式のパラメータチューニングガイド。英語です。"
   ]
  },
  {
   "cell_type": "code",
   "execution_count": 44,
   "metadata": {},
   "outputs": [],
   "source": [
    "params = {\n",
    "    # 目的関数. これの意味で最小となるようなパラメータを探します. \n",
    "    'objective': 'rmse', \n",
    "    \n",
    "     # 学習率. 小さいほどなめらかな決定境界が作られて性能向上に繋がる場合が多いです、\n",
    "    # がそれだけ木を作るため学習に時間がかかります\n",
    "    'learning_rate': .1,\n",
    "    \n",
    "    # L2 Reguralization\n",
    "    'reg_lambda': 1.,\n",
    "    # こちらは L1 \n",
    "    'reg_alpha': .1,\n",
    "    \n",
    "    # 木の深さ. 深い木を許容するほどより複雑な交互作用を考慮するようになります\n",
    "    'max_depth': 5, \n",
    "    \n",
    "    # 木の最大数. early_stopping という枠組みで木の数は制御されるようにしていますのでとても大きい値を指定しておきます.\n",
    "    'n_estimators': 10000, \n",
    "    \n",
    "    # 木を作る際に考慮する特徴量の割合. 1以下を指定すると特徴をランダムに欠落させます。小さくすることで, まんべんなく特徴を使うという効果があります.\n",
    "    'colsample_bytree': .5, \n",
    "    \n",
    "    # 最小分割でのデータ数. 小さいとより細かい粒度の分割方法を許容します.\n",
    "    'min_child_samples': 10,\n",
    "    \n",
    "    # bagging の頻度と割合\n",
    "    'subsample_freq': 3,\n",
    "    'subsample': .9,\n",
    "    \n",
    "    # 特徴重要度計算のロジック(後述)\n",
    "    'importance_type': 'gain', \n",
    "    'random_state': 71,\n",
    "}"
   ]
  },
  {
   "cell_type": "markdown",
   "metadata": {},
   "source": [
    "### 予測対象の変換\n",
    "\n",
    "RMSLE を擬似的に RMSE として扱うため `log1p` 変換を行います。"
   ]
  },
  {
   "cell_type": "code",
   "execution_count": 45,
   "metadata": {},
   "outputs": [],
   "source": [
    "y = train_df['likes'].values\n",
    "y = np.log1p(y)"
   ]
  },
  {
   "cell_type": "code",
   "execution_count": 46,
   "metadata": {},
   "outputs": [
    {
     "name": "stdout",
     "output_type": "stream",
     "text": [
      "Training until validation scores don't improve for 100 rounds\n",
      "[500]\tvalid_0's rmse: 1.21193\n",
      "Early stopping, best iteration is:\n",
      "[486]\tvalid_0's rmse: 1.21106\n",
      "fit fold=0  0.350[s]\n",
      "Fold 0 RMSLE: 1.2111\n",
      "Training until validation scores don't improve for 100 rounds\n",
      "[500]\tvalid_0's rmse: 1.17842\n",
      "Early stopping, best iteration is:\n",
      "[456]\tvalid_0's rmse: 1.17561\n",
      "fit fold=1  0.284[s]\n",
      "Fold 1 RMSLE: 1.1756\n",
      "Training until validation scores don't improve for 100 rounds\n",
      "Early stopping, best iteration is:\n",
      "[366]\tvalid_0's rmse: 1.1853\n",
      "fit fold=2  0.318[s]\n",
      "Fold 2 RMSLE: 1.1853\n",
      "Training until validation scores don't improve for 100 rounds\n",
      "Early stopping, best iteration is:\n",
      "[318]\tvalid_0's rmse: 1.20698\n",
      "fit fold=3  0.235[s]\n",
      "Fold 3 RMSLE: 1.2070\n",
      "Training until validation scores don't improve for 100 rounds\n",
      "[500]\tvalid_0's rmse: 1.18303\n",
      "Early stopping, best iteration is:\n",
      "[414]\tvalid_0's rmse: 1.18175\n",
      "fit fold=4  0.272[s]\n",
      "Fold 4 RMSLE: 1.1818\n",
      "--------------------------------------------------\n",
      "FINISHED | Whole RMSLE: 1.1922\n"
     ]
    }
   ],
   "source": [
    "from sklearn.model_selection import KFold\n",
    "\n",
    "fold = KFold(n_splits=5, shuffle=True, random_state=71)\n",
    "cv = list(fold.split(train_feat_df, y)) # もともとが generator なため明示的に list に変換する\n",
    "\n",
    "oof, models = fit_lgbm(train_feat_df.values, y, cv, params=params, verbose=500)"
   ]
  },
  {
   "cell_type": "code",
   "execution_count": 47,
   "metadata": {},
   "outputs": [
    {
     "data": {
      "text/plain": [
       "<matplotlib.collections.PathCollection at 0x7fcd70d17fd0>"
      ]
     },
     "execution_count": 47,
     "metadata": {},
     "output_type": "execute_result"
    },
    {
     "data": {
      "image/png": "[encoded data removed]",
      "text/plain": [
       "<Figure size 576x576 with 1 Axes>"
      ]
     },
     "metadata": {},
     "output_type": "display_data"
    }
   ],
   "source": [
    "fig, ax = plt.subplots(figsize=(8, 8))\n",
    "ax.scatter(oof, y)"
   ]
  },
  {
   "cell_type": "markdown",
   "metadata": {},
   "source": [
    "### 特徴重要度の確認\n",
    "\n",
    "LightGBM など木系のモデルではどの特徴量で分割を行ってどれだけ目的変数を説明しているかを特徴重要度 (feature importance) として出力することができます。これを見ることで\n",
    "\n",
    "* どの特徴量が大事なのか\n",
    "* どの特徴量はあまり大事ではないか\n",
    "\n",
    "といった特徴量に関する情報を得ることができます。これによって、例えば重要となった特徴量を使う別の特徴を考えたり、反対に大事ではない特徴を削ったりといったインサイトを得ることが可能です。"
   ]
  },
  {
   "cell_type": "code",
   "execution_count": 48,
   "metadata": {},
   "outputs": [
    {
     "data": {
      "image/png": "[encoded data removed]",
      "text/plain": [
       "<Figure size 576x900 with 1 Axes>"
      ]
     },
     "metadata": {},
     "output_type": "display_data"
    }
   ],
   "source": [
    "def visualize_importance(models, feat_train_df):\n",
    "    \"\"\"lightGBM の model 配列の feature importance を plot する\n",
    "    CVごとのブレを boxen plot として表現します.\n",
    "    \n",
    "    args:\n",
    "        models:\n",
    "            List of lightGBM models\n",
    "        feat_train_df:\n",
    "            学習時に使った DataFrame\n",
    "    \"\"\"\n",
    "    feature_importance_df = pd.DataFrame()\n",
    "    for i, model in enumerate(models):\n",
    "        _df = pd.DataFrame()\n",
    "        _df['feature_importance'] = model.feature_importances_\n",
    "        _df['column'] = feat_train_df.columns\n",
    "        _df['fold'] = i + 1\n",
    "        feature_importance_df = pd.concat([feature_importance_df, _df], \n",
    "                                          axis=0, ignore_index=True)\n",
    "\n",
    "    order = feature_importance_df.groupby('column')\\\n",
    "        .sum()[['feature_importance']]\\\n",
    "        .sort_values('feature_importance', ascending=False).index[:50]\n",
    "\n",
    "    fig, ax = plt.subplots(figsize=(8, max(6, len(order) * .25)))\n",
    "    sns.boxenplot(data=feature_importance_df, \n",
    "                  x='feature_importance', \n",
    "                  y='column', \n",
    "                  order=order, \n",
    "                  ax=ax, \n",
    "                  palette='viridis', \n",
    "                  orient='h')\n",
    "    ax.tick_params(axis='x', rotation=90)\n",
    "    ax.set_title('Importance')\n",
    "    ax.grid()\n",
    "    fig.tight_layout()\n",
    "    return fig, ax\n",
    "\n",
    "fig, ax = visualize_importance(models, train_feat_df)"
   ]
  },
  {
   "cell_type": "markdown",
   "metadata": {},
   "source": [
    "### 考察\n",
    "\n",
    "* sub_title の文字列長が重要らしい。sub_title は絵画の大きさなどの属性が入ったカラムなので、大きい作品が like されやすい、などはありそう。\n",
    "    * 実際にみて確かめる。\n",
    "* 文字列カラムで言うと、more_title も重要。人気なものは美術館側も気合入れて説明を書いている可能性がある。\n",
    "* たくさん登場する maker は重要。\n",
    "    * 因果的には有名だからたくさん作品を所持しているのかも。\n",
    "* 年度の重要性が高い。美術作品にも歴史と流れがあり、それを年度から汲み取っている可能性がある\n",
    "    * 例えば日本では印象派がとても人気。印象派はあるブームをさすワードで 1850 ~ 1920 頃にしか存在しない。\n",
    "    * 年度を数字とみなさずに、カテゴリに変換しても面白いかもしれない。\n",
    "        * 例えば ~ 1700 / ~ 1800 / ~ 1900 ~  / それ以上 みたいな"
   ]
  },
  {
   "cell_type": "code",
   "execution_count": 49,
   "metadata": {},
   "outputs": [],
   "source": [
    "def revert_to_real(y_log):\n",
    "    _pred = np.expm1(y_log)\n",
    "    _pred = np.where(_pred < 0, 0, _pred)\n",
    "    return _pred"
   ]
  },
  {
   "cell_type": "code",
   "execution_count": 50,
   "metadata": {},
   "outputs": [],
   "source": [
    "pred = np.array([model.predict(test_feat_df.values) for model in models])\n",
    "pred = np.mean(pred, axis=0)\n",
    "pred = revert_to_real(pred)\n",
    "sub_df = pd.DataFrame({ 'likes': pred })\n",
    "sub_df.to_csv(os.path.join(OUTPUT_DIR, '0001__submission.csv'), index=False)"
   ]
  },
  {
   "cell_type": "markdown",
   "metadata": {},
   "source": [
    "* submission する前には予測値がまともかどうかちゃんと見ておきます。\n",
    "    * あまりに大きくずれているときは実装がおかしい or 分布がずれている可能性が高いです。\n",
    "    * 貴重なsubmissionを無駄にしないため一旦落ち着いて、チェックしましょう。ぐるぐるは逃げません。    \n",
    "* 余裕があれば `sweetvis` などで学習と推論に使った特徴量も可視化すると良いです。あまりにずれている場合, 実装がおかしいかその特徴に関連する情報が train / test で大きく乖離している可能性があります。"
   ]
  },
  {
   "cell_type": "code",
   "execution_count": 51,
   "metadata": {},
   "outputs": [
    {
     "data": {
      "image/png": "[encoded data removed]",
      "text/plain": [
       "<Figure size 576x576 with 1 Axes>"
      ]
     },
     "metadata": {},
     "output_type": "display_data"
    }
   ],
   "source": [
    "fig, ax = plt.subplots(figsize=(8, 8))\n",
    "sns.histplot(np.log1p(pred), label='Test Predict', ax=ax, color='black')\n",
    "sns.histplot(oof, label='Out Of Fold', ax=ax, color='C1')\n",
    "ax.legend()\n",
    "ax.grid()"
   ]
  },
  {
   "cell_type": "markdown",
   "metadata": {},
   "source": [
    "### Future Work\n",
    "\n",
    "* データをより良く見て、性質を理解する (EDA)\n",
    "* 特徴量をより凝ったものにする\n",
    "\n",
    "これらは次回の講座で扱います!"
   ]
  }
 ],
 "metadata": {
  "kernelspec": {
   "display_name": "Python 3",
   "language": "python",
   "name": "python3"
  },
  "language_info": {
   "codemirror_mode": {
    "name": "ipython",
    "version": 3
   },
   "file_extension": ".py",
   "mimetype": "text/x-python",
   "name": "python",
   "nbconvert_exporter": "python",
   "pygments_lexer": "ipython3",
   "version": "3.7.7"
  }
 },
 "nbformat": 4,
 "nbformat_minor": 4
}
